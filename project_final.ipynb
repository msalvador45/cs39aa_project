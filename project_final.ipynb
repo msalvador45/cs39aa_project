{
 "cells": [
  {
   "cell_type": "markdown",
   "metadata": {},
   "source": [
    "# Project Part 1\n",
    "\n",
    "[![Kaggle](https://kaggle.com/static/images/open-in-kaggle.svg)](https://kaggle.com/kernels/welcome?src=https://github.com/sgeinitz/cs39aa_project/blob/main/project_part1.ipynb)\n",
    "\n",
    "[![Open In Colab](https://colab.research.google.com/assets/colab-badge.svg)](https://colab.research.google.com/github/sgeinitz/cs39aa_project/blob/main/project_part1.ipynb)\n",
    "\n"
   ]
  },
  {
   "cell_type": "markdown",
   "metadata": {},
   "source": [
    "## Introduction/Background\n",
    "\n",
    "In this project I will attempting to train a model to predict news media bias. In order to do this I will be utilizing the dataset NLPCSS-20 from the Association for Computational Linguistics which can be found on Github. The dataset is a collection or corpus contrived of 6,964 news articles. The labels of how we describe the corpus are the following:\n",
    "- title: title of news article\n",
    "- content: content of news article\n",
    "- source: source of the content\n",
    "- allsides-bias: bias (left, center or right)\n",
    "- misc: aurhor, date, etc\n",
    "- adfontes_fair: how fair is the news article (bias, neutral or unknown)\n",
    "- adfontes_political: how political bias skewed the article is (bias, neutral or unknown)\n",
    "- event_id:event id\n",
    "\n",
    "This is a text classification problem as how we are trying to classify combination of strings that demonstrate wheter a news content is politically bias or not. The combination of strings is the content itself, it is then labeled with how bias that content is. \n"
   ]
  },
  {
   "cell_type": "markdown",
   "metadata": {},
   "source": [
    "## Exploratory Data Analysis\n",
    "\n",
    "First step is to analyze the data we have in order to figure out how our data looks like and what it is trying to tell us.\n",
    "\n",
    "The dataset comes in a Json file so there are extra steps as to converting the data into a dataframe."
   ]
  },
  {
   "cell_type": "code",
   "execution_count": 36,
   "metadata": {
    "scrolled": false
   },
   "outputs": [],
   "source": [
    "# import all of the python modules/packages you'll need here\n",
    "import nltk\n",
    "import seaborn as sns\n",
    "import pandas as pd\n",
    "import matplotlib.pyplot as plt\n",
    "import numpy as np\n",
    "\n",
    "#nltk.download('wordnet')\n",
    "#nltk.download('wordnet')\n",
    "#nltk.download('omw-1.4')"
   ]
  },
  {
   "cell_type": "markdown",
   "metadata": {},
   "source": [
    "As we can oberseve the json data set is not able to be formatted into a dataframe, this is becuase its format is unsupported by pandas and will have to be reformated."
   ]
  },
  {
   "cell_type": "code",
   "execution_count": 2,
   "metadata": {},
   "outputs": [
    {
     "name": "stdout",
     "output_type": "stream",
     "text": [
      "             source                                              title  \\\n",
      "0          Fox News  Trump blasts Howard Schultz, says ex-Starbucks...   \n",
      "1         USA TODAY  Trump blasts former Starbucks CEO Howard Schul...   \n",
      "2  Washington Times  Mick Mulvaney: Trump to secure border 'with or...   \n",
      "3  Washington Times  Trump says 'we'll do the emergency' if border ...   \n",
      "\n",
      "   event_id adfontes_fair adfontes_political    allsides_bias  \\\n",
      "0         0          bias               bias   From the Right   \n",
      "1         0          bias            neutral  From the Center   \n",
      "2         0          bias            neutral   From the Right   \n",
      "3         0          bias            neutral   From the Right   \n",
      "\n",
      "                                             content  \\\n",
      "0  Obama administration alum Roger Fisk and Repub...   \n",
      "1  WASHINGTON – President Donald Trump took a swi...   \n",
      "2  Acting White House chief of staff Mick Mulvane...   \n",
      "3  President Trump repeated his vow Friday to dec...   \n",
      "\n",
      "                                                misc  \n",
      "0  {'time': '2019-01-28 16:10:44.680484', 'topics...  \n",
      "1  {'time': 'None', 'topics': 'Election: Presiden...  \n",
      "2  {'time': 'None', 'topics': 'White House', 'aut...  \n",
      "3  {'time': 'None', 'topics': 'White House, Polit...  \n"
     ]
    }
   ],
   "source": [
    "# convert json file to dataframe\n",
    "# path has original data, path2 is a small excerpt from og data w/ a fix to check if it is able to reformatt into df\n",
    "path= \"NLPCSS-20-main/data/released_data.json\"\n",
    "path2= \"NLPCSS-20-main/data/example.json\"\n",
    "\n",
    "# test_df = pd.read_json(path, orient='records')\n",
    "test_df2 = pd.read_json(path2, orient='records')\n",
    "\n",
    "# print(test_df)\n",
    "print (test_df2)"
   ]
  },
  {
   "cell_type": "code",
   "execution_count": 3,
   "metadata": {},
   "outputs": [],
   "source": [
    "#path to reformatted json file\n",
    "path_data= 'NLPCSS-20-main/data/data.json'\n",
    "#reformatt json file\n",
    "with open(path, 'r') as rf:\n",
    "    with open(path_data, 'w') as wf:\n",
    "        #add [ at the beginning of the corpus\n",
    "        wf.write('[\\n')\n",
    "        #add a comma at the end of each line\n",
    "        lines= rf.read().splitlines()\n",
    "        new_line= ',\\n'.join(lines)\n",
    "        wf.write(new_line)\n",
    "        #add ] at the end of the corpus\n",
    "        wf.write('\\n]')\n",
    "        \n"
   ]
  },
  {
   "cell_type": "markdown",
   "metadata": {},
   "source": [
    "We can now convert data into a pandas dataframe and checkout initial observations"
   ]
  },
  {
   "cell_type": "code",
   "execution_count": 4,
   "metadata": {},
   "outputs": [
    {
     "data": {
      "text/html": [
       "<div>\n",
       "<style scoped>\n",
       "    .dataframe tbody tr th:only-of-type {\n",
       "        vertical-align: middle;\n",
       "    }\n",
       "\n",
       "    .dataframe tbody tr th {\n",
       "        vertical-align: top;\n",
       "    }\n",
       "\n",
       "    .dataframe thead th {\n",
       "        text-align: right;\n",
       "    }\n",
       "</style>\n",
       "<table border=\"1\" class=\"dataframe\">\n",
       "  <thead>\n",
       "    <tr style=\"text-align: right;\">\n",
       "      <th></th>\n",
       "      <th>source</th>\n",
       "      <th>title</th>\n",
       "      <th>event_id</th>\n",
       "      <th>adfontes_fair</th>\n",
       "      <th>adfontes_political</th>\n",
       "      <th>allsides_bias</th>\n",
       "      <th>content</th>\n",
       "      <th>misc</th>\n",
       "    </tr>\n",
       "  </thead>\n",
       "  <tbody>\n",
       "    <tr>\n",
       "      <th>0</th>\n",
       "      <td>Fox News</td>\n",
       "      <td>Trump blasts Howard Schultz, says ex-Starbucks...</td>\n",
       "      <td>0</td>\n",
       "      <td>bias</td>\n",
       "      <td>bias</td>\n",
       "      <td>From the Right</td>\n",
       "      <td>Obama administration alum Roger Fisk and Repub...</td>\n",
       "      <td>{'time': '2019-01-28 16:10:44.680484', 'topics...</td>\n",
       "    </tr>\n",
       "    <tr>\n",
       "      <th>1</th>\n",
       "      <td>USA TODAY</td>\n",
       "      <td>Trump blasts former Starbucks CEO Howard Schul...</td>\n",
       "      <td>0</td>\n",
       "      <td>bias</td>\n",
       "      <td>neutral</td>\n",
       "      <td>From the Center</td>\n",
       "      <td>WASHINGTON – President Donald Trump took a swi...</td>\n",
       "      <td>{'time': 'None', 'topics': 'Election: Presiden...</td>\n",
       "    </tr>\n",
       "    <tr>\n",
       "      <th>2</th>\n",
       "      <td>Washington Times</td>\n",
       "      <td>Mick Mulvaney: Trump to secure border 'with or...</td>\n",
       "      <td>0</td>\n",
       "      <td>bias</td>\n",
       "      <td>neutral</td>\n",
       "      <td>From the Right</td>\n",
       "      <td>Acting White House chief of staff Mick Mulvane...</td>\n",
       "      <td>{'time': 'None', 'topics': 'White House', 'aut...</td>\n",
       "    </tr>\n",
       "  </tbody>\n",
       "</table>\n",
       "</div>"
      ],
      "text/plain": [
       "             source                                              title  \\\n",
       "0          Fox News  Trump blasts Howard Schultz, says ex-Starbucks...   \n",
       "1         USA TODAY  Trump blasts former Starbucks CEO Howard Schul...   \n",
       "2  Washington Times  Mick Mulvaney: Trump to secure border 'with or...   \n",
       "\n",
       "   event_id adfontes_fair adfontes_political    allsides_bias  \\\n",
       "0         0          bias               bias   From the Right   \n",
       "1         0          bias            neutral  From the Center   \n",
       "2         0          bias            neutral   From the Right   \n",
       "\n",
       "                                             content  \\\n",
       "0  Obama administration alum Roger Fisk and Repub...   \n",
       "1  WASHINGTON – President Donald Trump took a swi...   \n",
       "2  Acting White House chief of staff Mick Mulvane...   \n",
       "\n",
       "                                                misc  \n",
       "0  {'time': '2019-01-28 16:10:44.680484', 'topics...  \n",
       "1  {'time': 'None', 'topics': 'Election: Presiden...  \n",
       "2  {'time': 'None', 'topics': 'White House', 'aut...  "
      ]
     },
     "execution_count": 4,
     "metadata": {},
     "output_type": "execute_result"
    }
   ],
   "source": [
    "\"\"\"Convert reformatted dataset into dataframe\"\"\"\n",
    "df = pd.read_json(path_data, orient='records')\n",
    "\n",
    "df.head(3)"
   ]
  },
  {
   "cell_type": "markdown",
   "metadata": {},
   "source": [
    "Now lets do some basic pandas data exploration to get a sense of the data.\n",
    "There are 7775 observations with 8 columns, but it seems as we might not have to use all columns."
   ]
  },
  {
   "cell_type": "code",
   "execution_count": 5,
   "metadata": {},
   "outputs": [
    {
     "name": "stdout",
     "output_type": "stream",
     "text": [
      "<class 'pandas.core.frame.DataFrame'>\n",
      "RangeIndex: 7775 entries, 0 to 7774\n",
      "Data columns (total 8 columns):\n",
      " #   Column              Non-Null Count  Dtype \n",
      "---  ------              --------------  ----- \n",
      " 0   source              7775 non-null   object\n",
      " 1   title               7775 non-null   object\n",
      " 2   event_id            7775 non-null   int64 \n",
      " 3   adfontes_fair       7775 non-null   object\n",
      " 4   adfontes_political  7775 non-null   object\n",
      " 5   allsides_bias       7775 non-null   object\n",
      " 6   content             7775 non-null   object\n",
      " 7   misc                7775 non-null   object\n",
      "dtypes: int64(1), object(7)\n",
      "memory usage: 486.1+ KB\n",
      "None\n",
      "\n",
      "The shape of dataset as of right now is  (7775, 8)\n"
     ]
    }
   ],
   "source": [
    "print(df.info())\n",
    "print(\"\\nThe shape of dataset as of right now is \", df.shape)\n"
   ]
  },
  {
   "cell_type": "markdown",
   "metadata": {},
   "source": [
    "We want to deal with a simple model first so we will proceed to only use 'content' and 'allsides_bias' first, and we can drop every other column."
   ]
  },
  {
   "cell_type": "code",
   "execution_count": 6,
   "metadata": {},
   "outputs": [
    {
     "data": {
      "text/html": [
       "<div>\n",
       "<style scoped>\n",
       "    .dataframe tbody tr th:only-of-type {\n",
       "        vertical-align: middle;\n",
       "    }\n",
       "\n",
       "    .dataframe tbody tr th {\n",
       "        vertical-align: top;\n",
       "    }\n",
       "\n",
       "    .dataframe thead th {\n",
       "        text-align: right;\n",
       "    }\n",
       "</style>\n",
       "<table border=\"1\" class=\"dataframe\">\n",
       "  <thead>\n",
       "    <tr style=\"text-align: right;\">\n",
       "      <th></th>\n",
       "      <th>allsides_bias</th>\n",
       "      <th>content</th>\n",
       "    </tr>\n",
       "  </thead>\n",
       "  <tbody>\n",
       "    <tr>\n",
       "      <th>0</th>\n",
       "      <td>From the Right</td>\n",
       "      <td>obama administration alum roger fisk and repub...</td>\n",
       "    </tr>\n",
       "    <tr>\n",
       "      <th>1</th>\n",
       "      <td>From the Center</td>\n",
       "      <td>washington – president donald trump took a swi...</td>\n",
       "    </tr>\n",
       "    <tr>\n",
       "      <th>2</th>\n",
       "      <td>From the Right</td>\n",
       "      <td>acting white house chief of staff mick mulvane...</td>\n",
       "    </tr>\n",
       "    <tr>\n",
       "      <th>3</th>\n",
       "      <td>From the Right</td>\n",
       "      <td>president trump repeated his vow friday to dec...</td>\n",
       "    </tr>\n",
       "    <tr>\n",
       "      <th>4</th>\n",
       "      <td>From the Center</td>\n",
       "      <td>president donald trump has yielded to politica...</td>\n",
       "    </tr>\n",
       "  </tbody>\n",
       "</table>\n",
       "</div>"
      ],
      "text/plain": [
       "     allsides_bias                                            content\n",
       "0   From the Right  obama administration alum roger fisk and repub...\n",
       "1  From the Center  washington – president donald trump took a swi...\n",
       "2   From the Right  acting white house chief of staff mick mulvane...\n",
       "3   From the Right  president trump repeated his vow friday to dec...\n",
       "4  From the Center  president donald trump has yielded to politica..."
      ]
     },
     "execution_count": 6,
     "metadata": {},
     "output_type": "execute_result"
    }
   ],
   "source": [
    "df.drop(columns=['source','title','event_id','misc','adfontes_fair','adfontes_political'], inplace=True)\n",
    "#lowercase the content column\n",
    "df['content']= df['content'].str.lower()\n",
    "df.head()"
   ]
  },
  {
   "cell_type": "markdown",
   "metadata": {},
   "source": [
    "Lets see the shape and columns of our remodified data frame as well as the unique values of our allsides_bias and its value counts."
   ]
  },
  {
   "cell_type": "code",
   "execution_count": 7,
   "metadata": {},
   "outputs": [
    {
     "name": "stdout",
     "output_type": "stream",
     "text": [
      "<class 'pandas.core.frame.DataFrame'>\n",
      "RangeIndex: 7775 entries, 0 to 7774\n",
      "Data columns (total 2 columns):\n",
      " #   Column         Non-Null Count  Dtype \n",
      "---  ------         --------------  ----- \n",
      " 0   allsides_bias  7775 non-null   object\n",
      " 1   content        7775 non-null   object\n",
      "dtypes: object(2)\n",
      "memory usage: 121.6+ KB\n",
      "None\n",
      "\n",
      "The shape of dataset as of right now is  (7775, 2) \n",
      "\n",
      "The unique values for allsides_bias is:\n",
      " ['From the Right' 'From the Center' 'From the Left'] \n",
      "\n"
     ]
    },
    {
     "data": {
      "text/plain": [
       "From the Left      0.473826\n",
       "From the Right     0.366688\n",
       "From the Center    0.159486\n",
       "Name: allsides_bias, dtype: float64"
      ]
     },
     "execution_count": 7,
     "metadata": {},
     "output_type": "execute_result"
    }
   ],
   "source": [
    "print(df.info())\n",
    "print(\"\\nThe shape of dataset as of right now is \", df.shape,\"\\n\")\n",
    "print(\"The unique values for allsides_bias is:\\n\",df.allsides_bias.unique(),\"\\n\")\n",
    "df.allsides_bias.value_counts(normalize=True)"
   ]
  },
  {
   "cell_type": "markdown",
   "metadata": {},
   "source": [
    "We can see most results come from the left, around 37% com from the right and 15% are center biased.\n",
    "\n",
    "Now lets check for empty values in both columns."
   ]
  },
  {
   "cell_type": "code",
   "execution_count": 8,
   "metadata": {},
   "outputs": [
    {
     "data": {
      "text/plain": [
       "allsides_bias    0\n",
       "content          0\n",
       "dtype: int64"
      ]
     },
     "execution_count": 8,
     "metadata": {},
     "output_type": "execute_result"
    }
   ],
   "source": [
    "null_entries= df.isnull().sum()\n",
    "null_entries"
   ]
  },
  {
   "cell_type": "markdown",
   "metadata": {},
   "source": [
    "So our data frame as of now has two rows, and both contain values that are not empty or NaN.\n",
    "\n",
    "Lets take a look into the stopwords vs non-stopwords within the dataset"
   ]
  },
  {
   "cell_type": "code",
   "execution_count": 9,
   "metadata": {},
   "outputs": [
    {
     "name": "stdout",
     "output_type": "stream",
     "text": [
      "Bar graph of amt of stopwords in content:\n",
      "\n"
     ]
    },
    {
     "data": {
      "text/plain": [
       "<BarContainer object of 10 artists>"
      ]
     },
     "execution_count": 9,
     "metadata": {},
     "output_type": "execute_result"
    },
    {
     "data": {
      "image/png": "[encoded data removed]",
      "text/plain": [
       "<Figure size 640x480 with 1 Axes>"
      ]
     },
     "metadata": {},
     "output_type": "display_data"
    }
   ],
   "source": [
    "\"Create a corpus without stopwords\"\n",
    "from nltk.corpus import stopwords\n",
    "stops= set(stopwords.words('english'))\n",
    "\n",
    "corpus=[]\n",
    "new= df['content'].str.split()\n",
    "new= new.values.tolist()\n",
    "corpus=[word for i in new for word in i]\n",
    "\n",
    "from collections import defaultdict\n",
    "dic= defaultdict(int)\n",
    "for word in corpus:\n",
    "    if word in stops:\n",
    "        dic[word]+=1\n",
    "\n",
    "top= sorted(dic.items(), key=lambda x:x[1], reverse= True)[:10]\n",
    "x,y= zip(*top)\n",
    "print(\"Bar graph of amt of stopwords in content:\\n\")\n",
    "plt.bar(x,y)"
   ]
  },
  {
   "cell_type": "code",
   "execution_count": 10,
   "metadata": {},
   "outputs": [
    {
     "data": {
      "text/plain": [
       "<AxesSubplot:>"
      ]
     },
     "execution_count": 10,
     "metadata": {},
     "output_type": "execute_result"
    },
    {
     "data": {
      "image/png": "[encoded data removed]",
      "text/plain": [
       "<Figure size 640x480 with 1 Axes>"
      ]
     },
     "metadata": {},
     "output_type": "display_data"
    }
   ],
   "source": [
    "\"create a chart to show number of occurences of words in dataset\"\n",
    "from collections import Counter\n",
    "\n",
    "counter= Counter(corpus)\n",
    "most= counter.most_common()\n",
    "\n",
    "x,y= [], []\n",
    "for word, count in most[:40]:\n",
    "    if (word not in stops):\n",
    "        x.append(word)\n",
    "        y.append(count)\n",
    "\n",
    "sns.barplot(x=y, y=x)"
   ]
  },
  {
   "cell_type": "markdown",
   "metadata": {},
   "source": [
    "# Project Part II"
   ]
  },
  {
   "cell_type": "markdown",
   "metadata": {},
   "source": [
    "Before making a baseline for the model, we will want to process the dataset we will have to tokenize our data."
   ]
  },
  {
   "cell_type": "code",
   "execution_count": 11,
   "metadata": {},
   "outputs": [
    {
     "name": "stderr",
     "output_type": "stream",
     "text": [
      "[nltk_data] Downloading package punkt to\n",
      "[nltk_data]     /home/msalvador45/nltk_data...\n",
      "[nltk_data]   Package punkt is already up-to-date!\n"
     ]
    },
    {
     "data": {
      "text/html": [
       "<div>\n",
       "<style scoped>\n",
       "    .dataframe tbody tr th:only-of-type {\n",
       "        vertical-align: middle;\n",
       "    }\n",
       "\n",
       "    .dataframe tbody tr th {\n",
       "        vertical-align: top;\n",
       "    }\n",
       "\n",
       "    .dataframe thead th {\n",
       "        text-align: right;\n",
       "    }\n",
       "</style>\n",
       "<table border=\"1\" class=\"dataframe\">\n",
       "  <thead>\n",
       "    <tr style=\"text-align: right;\">\n",
       "      <th></th>\n",
       "      <th>allsides_bias</th>\n",
       "      <th>content</th>\n",
       "      <th>tokens_raw</th>\n",
       "    </tr>\n",
       "  </thead>\n",
       "  <tbody>\n",
       "    <tr>\n",
       "      <th>0</th>\n",
       "      <td>From the Right</td>\n",
       "      <td>obama administration alum roger fisk and repub...</td>\n",
       "      <td>[obama, administration, alum, roger, fisk, and...</td>\n",
       "    </tr>\n",
       "    <tr>\n",
       "      <th>1</th>\n",
       "      <td>From the Center</td>\n",
       "      <td>washington – president donald trump took a swi...</td>\n",
       "      <td>[washington, –, president, donald, trump, took...</td>\n",
       "    </tr>\n",
       "    <tr>\n",
       "      <th>2</th>\n",
       "      <td>From the Right</td>\n",
       "      <td>acting white house chief of staff mick mulvane...</td>\n",
       "      <td>[acting, white, house, chief, of, staff, mick,...</td>\n",
       "    </tr>\n",
       "    <tr>\n",
       "      <th>3</th>\n",
       "      <td>From the Right</td>\n",
       "      <td>president trump repeated his vow friday to dec...</td>\n",
       "      <td>[president, trump, repeated, his, vow, friday,...</td>\n",
       "    </tr>\n",
       "    <tr>\n",
       "      <th>4</th>\n",
       "      <td>From the Center</td>\n",
       "      <td>president donald trump has yielded to politica...</td>\n",
       "      <td>[president, donald, trump, has, yielded, to, p...</td>\n",
       "    </tr>\n",
       "  </tbody>\n",
       "</table>\n",
       "</div>"
      ],
      "text/plain": [
       "     allsides_bias                                            content  \\\n",
       "0   From the Right  obama administration alum roger fisk and repub...   \n",
       "1  From the Center  washington – president donald trump took a swi...   \n",
       "2   From the Right  acting white house chief of staff mick mulvane...   \n",
       "3   From the Right  president trump repeated his vow friday to dec...   \n",
       "4  From the Center  president donald trump has yielded to politica...   \n",
       "\n",
       "                                          tokens_raw  \n",
       "0  [obama, administration, alum, roger, fisk, and...  \n",
       "1  [washington, –, president, donald, trump, took...  \n",
       "2  [acting, white, house, chief, of, staff, mick,...  \n",
       "3  [president, trump, repeated, his, vow, friday,...  \n",
       "4  [president, donald, trump, has, yielded, to, p...  "
      ]
     },
     "execution_count": 11,
     "metadata": {},
     "output_type": "execute_result"
    }
   ],
   "source": [
    "\"Using nltk tokenize the dataset\"\n",
    "from nltk.tokenize import word_tokenize\n",
    "nltk.download('punkt')\n",
    "\n",
    "df['tokens_raw']= df['content'].apply(word_tokenize)\n",
    "df.head()"
   ]
  },
  {
   "cell_type": "markdown",
   "metadata": {},
   "source": [
    "As well as removing stopwords from the dataset"
   ]
  },
  {
   "cell_type": "code",
   "execution_count": 12,
   "metadata": {},
   "outputs": [
    {
     "data": {
      "text/html": [
       "<div>\n",
       "<style scoped>\n",
       "    .dataframe tbody tr th:only-of-type {\n",
       "        vertical-align: middle;\n",
       "    }\n",
       "\n",
       "    .dataframe tbody tr th {\n",
       "        vertical-align: top;\n",
       "    }\n",
       "\n",
       "    .dataframe thead th {\n",
       "        text-align: right;\n",
       "    }\n",
       "</style>\n",
       "<table border=\"1\" class=\"dataframe\">\n",
       "  <thead>\n",
       "    <tr style=\"text-align: right;\">\n",
       "      <th></th>\n",
       "      <th>allsides_bias</th>\n",
       "      <th>content</th>\n",
       "      <th>tokens_raw</th>\n",
       "    </tr>\n",
       "  </thead>\n",
       "  <tbody>\n",
       "    <tr>\n",
       "      <th>0</th>\n",
       "      <td>From the Right</td>\n",
       "      <td>obama administration alum roger fisk and repub...</td>\n",
       "      <td>[obama, administration, alum, roger, fisk, rep...</td>\n",
       "    </tr>\n",
       "    <tr>\n",
       "      <th>1</th>\n",
       "      <td>From the Center</td>\n",
       "      <td>washington – president donald trump took a swi...</td>\n",
       "      <td>[washington, –, president, donald, trump, took...</td>\n",
       "    </tr>\n",
       "    <tr>\n",
       "      <th>2</th>\n",
       "      <td>From the Right</td>\n",
       "      <td>acting white house chief of staff mick mulvane...</td>\n",
       "      <td>[acting, white, house, chief, staff, mick, mul...</td>\n",
       "    </tr>\n",
       "    <tr>\n",
       "      <th>3</th>\n",
       "      <td>From the Right</td>\n",
       "      <td>president trump repeated his vow friday to dec...</td>\n",
       "      <td>[president, trump, repeated, vow, friday, decl...</td>\n",
       "    </tr>\n",
       "    <tr>\n",
       "      <th>4</th>\n",
       "      <td>From the Center</td>\n",
       "      <td>president donald trump has yielded to politica...</td>\n",
       "      <td>[president, donald, trump, yielded, political,...</td>\n",
       "    </tr>\n",
       "  </tbody>\n",
       "</table>\n",
       "</div>"
      ],
      "text/plain": [
       "     allsides_bias                                            content  \\\n",
       "0   From the Right  obama administration alum roger fisk and repub...   \n",
       "1  From the Center  washington – president donald trump took a swi...   \n",
       "2   From the Right  acting white house chief of staff mick mulvane...   \n",
       "3   From the Right  president trump repeated his vow friday to dec...   \n",
       "4  From the Center  president donald trump has yielded to politica...   \n",
       "\n",
       "                                          tokens_raw  \n",
       "0  [obama, administration, alum, roger, fisk, rep...  \n",
       "1  [washington, –, president, donald, trump, took...  \n",
       "2  [acting, white, house, chief, staff, mick, mul...  \n",
       "3  [president, trump, repeated, vow, friday, decl...  \n",
       "4  [president, donald, trump, yielded, political,...  "
      ]
     },
     "execution_count": 12,
     "metadata": {},
     "output_type": "execute_result"
    }
   ],
   "source": [
    "import re\n",
    "\n",
    "chars2remove= set(['.','!','/','?','#','-']) \n",
    "#stops contains our stopwords\n",
    "df['tokens_raw']= df['tokens_raw'].apply(lambda x: [w for w in x if w not in stops])\n",
    "df['tokens_raw']= df['tokens_raw'].apply(lambda x: [w for w in x if w not in chars2remove])\n",
    "df['tokens_raw']= df['tokens_raw'].apply(lambda x: [w for w in x if not re.match('^http',w)])\n",
    "df['tokens_raw']= df['tokens_raw'].apply(lambda x: [w for w in x if not re.match('^@', w)])\n",
    "df.head()"
   ]
  },
  {
   "cell_type": "markdown",
   "metadata": {},
   "source": [
    "Now we will proceed to lemmetize our tokens"
   ]
  },
  {
   "cell_type": "code",
   "execution_count": 13,
   "metadata": {},
   "outputs": [
    {
     "data": {
      "text/html": [
       "<div>\n",
       "<style scoped>\n",
       "    .dataframe tbody tr th:only-of-type {\n",
       "        vertical-align: middle;\n",
       "    }\n",
       "\n",
       "    .dataframe tbody tr th {\n",
       "        vertical-align: top;\n",
       "    }\n",
       "\n",
       "    .dataframe thead th {\n",
       "        text-align: right;\n",
       "    }\n",
       "</style>\n",
       "<table border=\"1\" class=\"dataframe\">\n",
       "  <thead>\n",
       "    <tr style=\"text-align: right;\">\n",
       "      <th></th>\n",
       "      <th>allsides_bias</th>\n",
       "      <th>content</th>\n",
       "      <th>tokens_raw</th>\n",
       "      <th>tokens</th>\n",
       "    </tr>\n",
       "  </thead>\n",
       "  <tbody>\n",
       "    <tr>\n",
       "      <th>0</th>\n",
       "      <td>From the Right</td>\n",
       "      <td>obama administration alum roger fisk and repub...</td>\n",
       "      <td>[obama, administration, alum, roger, fisk, rep...</td>\n",
       "      <td>[obama, administration, alum, roger, fisk, rep...</td>\n",
       "    </tr>\n",
       "    <tr>\n",
       "      <th>1</th>\n",
       "      <td>From the Center</td>\n",
       "      <td>washington – president donald trump took a swi...</td>\n",
       "      <td>[washington, –, president, donald, trump, took...</td>\n",
       "      <td>[washington, –, president, donald, trump, take...</td>\n",
       "    </tr>\n",
       "    <tr>\n",
       "      <th>2</th>\n",
       "      <td>From the Right</td>\n",
       "      <td>acting white house chief of staff mick mulvane...</td>\n",
       "      <td>[acting, white, house, chief, staff, mick, mul...</td>\n",
       "      <td>[act, white, house, chief, staff, mick, mulvan...</td>\n",
       "    </tr>\n",
       "    <tr>\n",
       "      <th>3</th>\n",
       "      <td>From the Right</td>\n",
       "      <td>president trump repeated his vow friday to dec...</td>\n",
       "      <td>[president, trump, repeated, vow, friday, decl...</td>\n",
       "      <td>[president, trump, repeat, vow, friday, declar...</td>\n",
       "    </tr>\n",
       "    <tr>\n",
       "      <th>4</th>\n",
       "      <td>From the Center</td>\n",
       "      <td>president donald trump has yielded to politica...</td>\n",
       "      <td>[president, donald, trump, yielded, political,...</td>\n",
       "      <td>[president, donald, trump, yield, political, p...</td>\n",
       "    </tr>\n",
       "  </tbody>\n",
       "</table>\n",
       "</div>"
      ],
      "text/plain": [
       "     allsides_bias                                            content  \\\n",
       "0   From the Right  obama administration alum roger fisk and repub...   \n",
       "1  From the Center  washington – president donald trump took a swi...   \n",
       "2   From the Right  acting white house chief of staff mick mulvane...   \n",
       "3   From the Right  president trump repeated his vow friday to dec...   \n",
       "4  From the Center  president donald trump has yielded to politica...   \n",
       "\n",
       "                                          tokens_raw  \\\n",
       "0  [obama, administration, alum, roger, fisk, rep...   \n",
       "1  [washington, –, president, donald, trump, took...   \n",
       "2  [acting, white, house, chief, staff, mick, mul...   \n",
       "3  [president, trump, repeated, vow, friday, decl...   \n",
       "4  [president, donald, trump, yielded, political,...   \n",
       "\n",
       "                                              tokens  \n",
       "0  [obama, administration, alum, roger, fisk, rep...  \n",
       "1  [washington, –, president, donald, trump, take...  \n",
       "2  [act, white, house, chief, staff, mick, mulvan...  \n",
       "3  [president, trump, repeat, vow, friday, declar...  \n",
       "4  [president, donald, trump, yield, political, p...  "
      ]
     },
     "execution_count": 13,
     "metadata": {},
     "output_type": "execute_result"
    }
   ],
   "source": [
    "from nltk.stem import WordNetLemmatizer\n",
    "\n",
    "lemmatizer= WordNetLemmatizer()\n",
    "df['tokens']= df['tokens_raw'].apply(lambda x: [lemmatizer.lemmatize(w, pos=\"v\") for w in x])\n",
    "df.head()\n"
   ]
  },
  {
   "cell_type": "markdown",
   "metadata": {},
   "source": [
    "## Splitting Data into Train, Validation and Test\n",
    "This dataset will be using an 80-20-20 split which we'll do now"
   ]
  },
  {
   "cell_type": "code",
   "execution_count": 14,
   "metadata": {},
   "outputs": [],
   "source": [
    "from sklearn.model_selection import train_test_split\n",
    "\n",
    "X= df['content'].copy()\n",
    "y= df['allsides_bias'].copy()\n",
    "\n",
    "#Our training split and testing split\n",
    "X_train_raw, X_test_raw, y_train, y_test= train_test_split(X, y, test_size=0.20, random_state=42)\n",
    "#Our validation and training split\n",
    "X_train_raw, X_val_raw, y_train, y_val= train_test_split(X_train_raw, y_train, test_size=.20, random_state=42)"
   ]
  },
  {
   "cell_type": "code",
   "execution_count": 15,
   "metadata": {},
   "outputs": [
    {
     "name": "stdout",
     "output_type": "stream",
     "text": [
      "validation amt: (1244,)\n",
      "testing amt: (1555,)\n",
      "training amt: (4976,)\n"
     ]
    }
   ],
   "source": [
    "print(\"validation amt:\",y_val.shape)\n",
    "print(\"testing amt:\",y_test.shape)\n",
    "print(\"training amt:\",y_train.shape)\n",
    "#X_train_raw.shape"
   ]
  },
  {
   "cell_type": "markdown",
   "metadata": {},
   "source": [
    "## Create a baseline model using Random Forest\n",
    "We will first vectorize our dataset"
   ]
  },
  {
   "cell_type": "code",
   "execution_count": 16,
   "metadata": {},
   "outputs": [
    {
     "name": "stdout",
     "output_type": "stream",
     "text": [
      "X_train.shape= (4976, 50905)\n"
     ]
    }
   ],
   "source": [
    "from sklearn.feature_extraction.text import TfidfVectorizer\n",
    "vectorizer= TfidfVectorizer()\n",
    "X_train= vectorizer.fit_transform(X_train_raw).toarray()\n",
    "\n",
    "print(f\"X_train.shape= {X_train.shape}\")"
   ]
  },
  {
   "cell_type": "markdown",
   "metadata": {},
   "source": [
    "The baseline model I decided to use is Random Forest "
   ]
  },
  {
   "cell_type": "code",
   "execution_count": 17,
   "metadata": {},
   "outputs": [
    {
     "name": "stdout",
     "output_type": "stream",
     "text": [
      "accuracy (on X_train): 0.9988\n"
     ]
    },
    {
     "data": {
      "image/png": "[encoded data removed]",
      "text/plain": [
       "<Figure size 640x480 with 2 Axes>"
      ]
     },
     "metadata": {},
     "output_type": "display_data"
    }
   ],
   "source": [
    "from sklearn.ensemble import RandomForestClassifier\n",
    "from sklearn.metrics import confusion_matrix, ConfusionMatrixDisplay, accuracy_score\n",
    "\n",
    "model= RandomForestClassifier(n_estimators=25)\n",
    "model= model.fit(X_train, y_train)\n",
    "\n",
    "predictions_train= model.predict(X_train)\n",
    "\n",
    "disp= ConfusionMatrixDisplay(confusion_matrix(y_train, predictions_train),\\\n",
    "    display_labels=['From the Center', 'From the Left', 'From the Right'])\n",
    "disp.plot()\n",
    "print(f\"accuracy (on X_train): {accuracy_score(y_train, predictions_train):.4f}\")"
   ]
  },
  {
   "cell_type": "markdown",
   "metadata": {},
   "source": [
    "We will compare the performance with our testing set"
   ]
  },
  {
   "cell_type": "code",
   "execution_count": 18,
   "metadata": {},
   "outputs": [
    {
     "name": "stdout",
     "output_type": "stream",
     "text": [
      "X_val.shape= (1244, 50905)\n"
     ]
    },
    {
     "data": {
      "text/plain": [
       "numpy.ndarray"
      ]
     },
     "execution_count": 18,
     "metadata": {},
     "output_type": "execute_result"
    }
   ],
   "source": [
    "\"Vectorize the validation data\"\n",
    "X_val= vectorizer.transform(X_val_raw).toarray()\n",
    "print(f\"X_val.shape= {X_val.shape}\")\n",
    "type(X_val)"
   ]
  },
  {
   "cell_type": "code",
   "execution_count": 19,
   "metadata": {},
   "outputs": [
    {
     "name": "stdout",
     "output_type": "stream",
     "text": [
      "accuracy (on X_train): 0.6600\n"
     ]
    },
    {
     "data": {
      "image/png": "[encoded data removed]",
      "text/plain": [
       "<Figure size 640x480 with 2 Axes>"
      ]
     },
     "metadata": {},
     "output_type": "display_data"
    }
   ],
   "source": [
    "\"predict with validation set\"\n",
    "predictions_val= model.predict(X_val)\n",
    "disp= ConfusionMatrixDisplay(confusion_matrix(y_val, predictions_val),\\\n",
    "    display_labels=['From the Center', 'From the Left', 'From the Right'])\n",
    "disp.plot()\n",
    "print(f\"accuracy (on X_train): {accuracy_score(y_val, predictions_val):.4f}\")"
   ]
  },
  {
   "cell_type": "markdown",
   "metadata": {},
   "source": [
    "We can see the performance is not as good as the training data set, but we can now play with the hyperparameters"
   ]
  },
  {
   "cell_type": "code",
   "execution_count": 20,
   "metadata": {},
   "outputs": [],
   "source": [
    "from sklearn.metrics import log_loss\n",
    "\n",
    "tune_model= True\n",
    "\n",
    "def tuneModel(hyperparam_value):\n",
    "    rf_model= RandomForestClassifier(n_estimators=hyperparam_value, random_state=5)\n",
    "    rf_model.fit(X_train, y_train)\n",
    "    y_train_pred_prob= rf_model.predict_proba(X_train)\n",
    "    y_train_pred= rf_model.predict(X_train)\n",
    "    y_val_pred_prob= rf_model.predict_proba(X_val)\n",
    "    y_val_pred= rf_model.predict(X_val)\n",
    "    train_loss= log_loss(y_train, y_train_pred_prob, labels=['From the Center','From the Left', 'From the Right'])\n",
    "    train_acc= accuracy_score(y_train, y_train_pred)\n",
    "    val_loss= log_loss(y_val, y_val_pred_prob, labels=['From the Center','From the Left', 'From the Right'])\n",
    "    val_acc= accuracy_score(y_val, y_val_pred)\n",
    "    return (train_loss, val_loss, train_acc, val_acc)\n",
    "\n",
    "hyp_param_vals= list(range(10, 261, 50))\n",
    "metrics= []\n",
    "\n",
    "if tune_model:\n",
    "    for hp in hyp_param_vals:\n",
    "        metrics.append(tuneModel(hp))\n"
   ]
  },
  {
   "cell_type": "code",
   "execution_count": 21,
   "metadata": {},
   "outputs": [
    {
     "data": {
      "text/plain": [
       "[Text(0.5, 0, 'n_estimators'), Text(0, 0.5, 'loss (lower is better)')]"
      ]
     },
     "execution_count": 21,
     "metadata": {},
     "output_type": "execute_result"
    },
    {
     "data": {
      "image/png": "[encoded data removed]",
      "text/plain": [
       "<Figure size 1200x600 with 1 Axes>"
      ]
     },
     "metadata": {},
     "output_type": "display_data"
    }
   ],
   "source": [
    "\"credit to nb_C_airline_tweets_take2 notebook\"\n",
    "import matplotlib.pyplot as plt\n",
    "fig= plt.figure(figsize=(12, 6))\n",
    "ax= fig.add_axes([0, 0, 1, 1])\n",
    "ax.plot(hyp_param_vals, [metric[1] for metric in metrics], '--ro')\n",
    "ax.plot(hyp_param_vals, [metric[0] for metric in metrics], '--bo')\n",
    "ax.legend([\"Validation Loss\", \"Train Loss\"], loc= 1)\n",
    "ax.set_xticks(hyp_param_vals)\n",
    "ax.set(xlabel= 'n_estimators', ylabel=\"loss (lower is better)\")"
   ]
  },
  {
   "cell_type": "code",
   "execution_count": 22,
   "metadata": {},
   "outputs": [
    {
     "data": {
      "image/png": "[encoded data removed]",
      "text/plain": [
       "<Figure size 1200x600 with 1 Axes>"
      ]
     },
     "metadata": {},
     "output_type": "display_data"
    }
   ],
   "source": [
    "\"credit to nb_C_airline_tweets_take2 notebook\"\n",
    "fig= plt.figure(figsize=(12, 6))\n",
    "ax= fig.add_axes([0,0,1,1])\n",
    "ax.plot(hyp_param_vals, [metric[3] for metric in metrics], '--ro')\n",
    "ax.plot(hyp_param_vals, [metric[2] for metric in metrics], '--bo')\n",
    "ax.legend([\"Validation Accuracy\", \"Train Accuracy (higher is better\"])\n",
    "plt.show()"
   ]
  },
  {
   "cell_type": "markdown",
   "metadata": {},
   "source": [
    "We can that 100+ seems to be the best hyperparameter if we continue to use the Random Forest Classifier method"
   ]
  },
  {
   "cell_type": "markdown",
   "metadata": {},
   "source": [
    "# Part III\n",
    "We will start with adding libraries to use huggingface models\n",
    " credit: Assign 5"
   ]
  },
  {
   "cell_type": "code",
   "execution_count": 23,
   "metadata": {},
   "outputs": [],
   "source": [
    "import torch\n",
    "from transformers import AutoTokenizer, AutoModelForSequenceClassification, TrainingArguments, Trainer\n",
    "from datasets import Dataset, load_metric"
   ]
  },
  {
   "cell_type": "code",
   "execution_count": 24,
   "metadata": {},
   "outputs": [],
   "source": [
    "\"\"\"Add gpu utilization add-on\"\"\"\n",
    "from pynvml import *"
   ]
  },
  {
   "cell_type": "code",
   "execution_count": 25,
   "metadata": {},
   "outputs": [
    {
     "name": "stderr",
     "output_type": "stream",
     "text": [
      "Some weights of the model checkpoint at bert-base-cased were not used when initializing BertForSequenceClassification: ['cls.seq_relationship.bias', 'cls.predictions.bias', 'cls.predictions.transform.LayerNorm.bias', 'cls.predictions.transform.dense.weight', 'cls.predictions.decoder.weight', 'cls.predictions.transform.LayerNorm.weight', 'cls.predictions.transform.dense.bias', 'cls.seq_relationship.weight']\n",
      "- This IS expected if you are initializing BertForSequenceClassification from the checkpoint of a model trained on another task or with another architecture (e.g. initializing a BertForSequenceClassification model from a BertForPreTraining model).\n",
      "- This IS NOT expected if you are initializing BertForSequenceClassification from the checkpoint of a model that you expect to be exactly identical (initializing a BertForSequenceClassification model from a BertForSequenceClassification model).\n",
      "Some weights of BertForSequenceClassification were not initialized from the model checkpoint at bert-base-cased and are newly initialized: ['classifier.bias', 'classifier.weight']\n",
      "You should probably TRAIN this model on a down-stream task to be able to use it for predictions and inference.\n"
     ]
    }
   ],
   "source": [
    "\"\"\"load in model that we will use to train our dataset\"\"\"\n",
    "MODEL_NAME= \"bert-base-cased\"\n",
    "MAX_LENGTH= 50      #what is this?\n",
    "\n",
    "tokenizer= AutoTokenizer.from_pretrained(MODEL_NAME)\n",
    "model= AutoModelForSequenceClassification.from_pretrained(MODEL_NAME, num_labels= 3, max_length= MAX_LENGTH,\\\n",
    "    output_attentions= False, output_hidden_states= False)\n",
    "\n",
    "#TODO: use other type of model to train dataset"
   ]
  },
  {
   "cell_type": "code",
   "execution_count": 26,
   "metadata": {},
   "outputs": [
    {
     "data": {
      "text/plain": [
       "'cut df into only 500 tokens'"
      ]
     },
     "execution_count": 26,
     "metadata": {},
     "output_type": "execute_result"
    }
   ],
   "source": [
    "\"\"\"cut df into only 500 tokens\"\"\""
   ]
  },
  {
   "cell_type": "code",
   "execution_count": 27,
   "metadata": {},
   "outputs": [
    {
     "name": "stdout",
     "output_type": "stream",
     "text": [
      "{'From the Right': 0, 'From the Center': 1, 'From the Left': 2}\n",
      "{0: 'From the Right', 1: 'From the Center', 2: 'From the Left'}\n"
     ]
    }
   ],
   "source": [
    "\"\"\"label column\"\"\"\n",
    "classes= df.allsides_bias.unique().tolist()\n",
    "class_tok2idx= dict((v, k) for k, v in enumerate(classes))\n",
    "class_idx2tok= dict((k, v) for k, v in enumerate(classes))\n",
    "print(class_tok2idx)\n",
    "print(class_idx2tok)"
   ]
  },
  {
   "cell_type": "code",
   "execution_count": 28,
   "metadata": {},
   "outputs": [
    {
     "data": {
      "text/html": [
       "<div>\n",
       "<style scoped>\n",
       "    .dataframe tbody tr th:only-of-type {\n",
       "        vertical-align: middle;\n",
       "    }\n",
       "\n",
       "    .dataframe tbody tr th {\n",
       "        vertical-align: top;\n",
       "    }\n",
       "\n",
       "    .dataframe thead th {\n",
       "        text-align: right;\n",
       "    }\n",
       "</style>\n",
       "<table border=\"1\" class=\"dataframe\">\n",
       "  <thead>\n",
       "    <tr style=\"text-align: right;\">\n",
       "      <th></th>\n",
       "      <th>allsides_bias</th>\n",
       "      <th>content</th>\n",
       "      <th>tokens_raw</th>\n",
       "      <th>tokens</th>\n",
       "      <th>label</th>\n",
       "    </tr>\n",
       "  </thead>\n",
       "  <tbody>\n",
       "    <tr>\n",
       "      <th>0</th>\n",
       "      <td>From the Right</td>\n",
       "      <td>obama administration alum roger fisk and repub...</td>\n",
       "      <td>[obama, administration, alum, roger, fisk, rep...</td>\n",
       "      <td>[obama, administration, alum, roger, fisk, rep...</td>\n",
       "      <td>0</td>\n",
       "    </tr>\n",
       "    <tr>\n",
       "      <th>1</th>\n",
       "      <td>From the Center</td>\n",
       "      <td>washington – president donald trump took a swi...</td>\n",
       "      <td>[washington, –, president, donald, trump, took...</td>\n",
       "      <td>[washington, –, president, donald, trump, take...</td>\n",
       "      <td>1</td>\n",
       "    </tr>\n",
       "    <tr>\n",
       "      <th>2</th>\n",
       "      <td>From the Right</td>\n",
       "      <td>acting white house chief of staff mick mulvane...</td>\n",
       "      <td>[acting, white, house, chief, staff, mick, mul...</td>\n",
       "      <td>[act, white, house, chief, staff, mick, mulvan...</td>\n",
       "      <td>0</td>\n",
       "    </tr>\n",
       "    <tr>\n",
       "      <th>3</th>\n",
       "      <td>From the Right</td>\n",
       "      <td>president trump repeated his vow friday to dec...</td>\n",
       "      <td>[president, trump, repeated, vow, friday, decl...</td>\n",
       "      <td>[president, trump, repeat, vow, friday, declar...</td>\n",
       "      <td>0</td>\n",
       "    </tr>\n",
       "    <tr>\n",
       "      <th>4</th>\n",
       "      <td>From the Center</td>\n",
       "      <td>president donald trump has yielded to politica...</td>\n",
       "      <td>[president, donald, trump, yielded, political,...</td>\n",
       "      <td>[president, donald, trump, yield, political, p...</td>\n",
       "      <td>1</td>\n",
       "    </tr>\n",
       "  </tbody>\n",
       "</table>\n",
       "</div>"
      ],
      "text/plain": [
       "     allsides_bias                                            content  \\\n",
       "0   From the Right  obama administration alum roger fisk and repub...   \n",
       "1  From the Center  washington – president donald trump took a swi...   \n",
       "2   From the Right  acting white house chief of staff mick mulvane...   \n",
       "3   From the Right  president trump repeated his vow friday to dec...   \n",
       "4  From the Center  president donald trump has yielded to politica...   \n",
       "\n",
       "                                          tokens_raw  \\\n",
       "0  [obama, administration, alum, roger, fisk, rep...   \n",
       "1  [washington, –, president, donald, trump, took...   \n",
       "2  [acting, white, house, chief, staff, mick, mul...   \n",
       "3  [president, trump, repeated, vow, friday, decl...   \n",
       "4  [president, donald, trump, yielded, political,...   \n",
       "\n",
       "                                              tokens  label  \n",
       "0  [obama, administration, alum, roger, fisk, rep...      0  \n",
       "1  [washington, –, president, donald, trump, take...      1  \n",
       "2  [act, white, house, chief, staff, mick, mulvan...      0  \n",
       "3  [president, trump, repeat, vow, friday, declar...      0  \n",
       "4  [president, donald, trump, yield, political, p...      1  "
      ]
     },
     "execution_count": 28,
     "metadata": {},
     "output_type": "execute_result"
    }
   ],
   "source": [
    "\"\"\"Apply new column to the df\"\"\"\n",
    "df['label']= df['allsides_bias'].apply(lambda x: class_tok2idx[x])\n",
    "df.head()"
   ]
  },
  {
   "cell_type": "code",
   "execution_count": 29,
   "metadata": {},
   "outputs": [
    {
     "data": {
      "text/plain": [
       "{'label': 0,\n",
       " 'content': 'obama administration alum roger fisk and republican strategist chris turner weigh in on what the 2020 presidential election field would look like if howard schultz ran as an independent\\npresident trump on monday fired back at howard schultz, saying the former starbucks ceo doesn’t have the “guts” to run for president after he announced he was mulling a 2020 white house bid as an independent -- and took a few shots at trump himself.\\n“howard schultz doesn’t have the ‘guts’ to run for president! watched him on @60minutes last night and i agree with him that he is not the ‘smartest person.’ besides, america already has that! i only hope that starbucks is still paying me their rent in trump tower!” trump tweeted monday morning.\\nex-starbucks ceo howard schultz &aposseriously&apos mulls presidential run, bashes trump as &aposnot qualified&apos\\nthe president’s tweet comes after schultz&aposs interview on cbs news’ “60 minutes,” where he revealed he was “seriously thinking” about running for president in 2020 as a “centrist independent,” and challenged trump’s fitness for office.\\n“we’re living at a most fragile time, not only the fact that this president is not qualified to be the president, but the fact that both parties are consistently not doing what’s necessary on behalf of the american people,” schultz said, specifically citing the national debt as “a reckless example, not only of republicans but of democrats, as well, as a reckless failure of their constitutional responsibility.”\\na fiery response from trump was expected. when told during the interview that trump would be tweeting about him in response, schultz said, \"i&aposve become bored with president trump and his tweets.\"\\nschultz, though, is taking heat from both sides amid fears from democrats he could play the role of spoiler, especially considering schultz described himself as a “lifelong democrat” yet is now contemplating a run as an independent.\\n“howard shultz running as an independent isn’t about bringing people together,” tina podlodowski, the democratic party chair in schultz’s home state of washington, said in a statement sunday. “it’s about one person: howard schultz.”\\nneera tanden, the president for the liberal center for american progress, also blasted schultz, saying she would boycott starbucks if he ran.\\n“vanity projects that help destroy democracy are disgusting,” she tweeted. “i’m not giving a penny that will end up in the election coffers of a guy who will help trump win.”\\nhowever, some of his views might also clash with a democratic party gearing up to unseat trump. some potential nominees, including massachusetts 2020 candidates sen. elizabeth warren and california sen. kamala harris, have endorsed single-payer health care, heavily taxing the rich or free tuition at public colleges. schultz has criticized such proposals as unrealistic and instead emphasized expanding the economy and curbing entitlements.\\n2020 democratic primary gets crowded\\n\"it concerns me that so many voices within the democratic party are going so far to the left,\" schultz told cnbc last june. \"i ask myself, &aposhow are we going to pay for all these things?&apos in terms of things like single-payer or people espousing the fact that the government is going to give everyone a job. i don&apost think that&aposs realistic.\"\\nduring his “60 minutes” interview, schultz dodged a question about whether his potential independent run would make him a spoiler for the democratic nominee.\\n“i wanna see the american people win,” he said. “i wanna see america win. i don’t care if you’re a democrat, independent, libertarian, republican. bring me your ideas. and i will be an independent person, who will embrace those ideas. because i’m not, in any way, in bed with a party.”\\nno third-party or independent candidate has won over 5 percent of the popular vote since ross perot in 1996. but schultz argued that a majority of the electorate is “exhausted” with politics.\\nclick here to get the fox news app\\n“what we know, factually, is that over 40 percent of the electorate is either a registered independent or currently affiliates themselves as an independent,” he said. “their trust has been broken. and they are looking for a better choice.”\\nfox news&apos samuel chamberlain contributed to this report.'}"
      ]
     },
     "execution_count": 29,
     "metadata": {},
     "output_type": "execute_result"
    }
   ],
   "source": [
    "\"\"\"convert df to ds\"\"\"\n",
    "ds_raw= Dataset.from_pandas(df[['label', 'content']])\n",
    "ds_raw[0]"
   ]
  },
  {
   "cell_type": "code",
   "execution_count": 30,
   "metadata": {},
   "outputs": [
    {
     "name": "stderr",
     "output_type": "stream",
     "text": [
      "Parameter 'function'=<function tokenize_function at 0x7fa456c4c310> of the transform datasets.arrow_dataset.Dataset._map_single couldn't be hashed properly, a random hash was used instead. Make sure your transforms and parameters are serializable with pickle or dill for the dataset fingerprinting and caching to work. If you reuse this transform, the caching mechanism will consider it to be different from the previous calls and recompute everything. This warning is only showed once. Subsequent hashing failures won't be showed.\n"
     ]
    },
    {
     "data": {
      "application/vnd.jupyter.widget-view+json": {
       "model_id": "177e6874d3e7415da818eee6a2b183ca",
       "version_major": 2,
       "version_minor": 0
      },
      "text/plain": [
       "  0%|          | 0/8 [00:00<?, ?ba/s]"
      ]
     },
     "metadata": {},
     "output_type": "display_data"
    }
   ],
   "source": [
    "\"\"\"tokenize the dataset\"\"\"\n",
    "def tokenize_function(examples):\n",
    "    return tokenizer(examples[\"content\"], padding=\"max_length\", truncation= True, max_length= MAX_LENGTH)\n",
    "\n",
    "ds= ds_raw.map(tokenize_function, batched= True)"
   ]
  },
  {
   "cell_type": "code",
   "execution_count": 31,
   "metadata": {},
   "outputs": [],
   "source": [
    "\"\"\"randomize dataset\"\"\"\n",
    "ds= ds.shuffle(seed= 42)\n"
   ]
  },
  {
   "cell_type": "code",
   "execution_count": 32,
   "metadata": {},
   "outputs": [
    {
     "name": "stdout",
     "output_type": "stream",
     "text": [
      "len(ds_train)= 6608\n",
      "len(ds_eval)= 1167\n"
     ]
    }
   ],
   "source": [
    "\"\"\"create split 85/15\"\"\"\n",
    "train_prop= .85\n",
    "ds_train= ds.select(range(int(len(ds)*train_prop)))\n",
    "ds_eval= ds.select(range(int(len(ds)*train_prop), len(ds)))\n",
    "\n",
    "#print out splits\n",
    "print(f\"len(ds_train)= {len(ds_train)}\")\n",
    "print(f\"len(ds_eval)= {len(ds_eval)}\")\n"
   ]
  },
  {
   "cell_type": "code",
   "execution_count": 33,
   "metadata": {},
   "outputs": [
    {
     "data": {
      "text/plain": [
       "tensor([[-0.2596,  0.5263,  0.3611]], grad_fn=<AddmmBackward0>)"
      ]
     },
     "execution_count": 33,
     "metadata": {},
     "output_type": "execute_result"
    }
   ],
   "source": [
    "\"\"\"test current huggingface model\"\"\"\n",
    "#print(type(X_val_raw[3606]),\"\\n\",X_val_raw[3606])\n",
    "\n",
    "article1= X_val_raw[3606]\n",
    "article1_tokens = tokenizer(article1,truncation=True, return_tensors=\"pt\", max_length= MAX_LENGTH)\n",
    "\n",
    "model(**article1_tokens).logits"
   ]
  },
  {
   "cell_type": "code",
   "execution_count": 34,
   "metadata": {},
   "outputs": [
    {
     "name": "stderr",
     "output_type": "stream",
     "text": [
      "Truncation was not explicitly activated but `max_length` is provided a specific value, please use `truncation=True` to explicitly truncate examples to max length. Defaulting to 'longest_first' truncation strategy. If you encode pairs of sequences (GLUE-style) with the tokenizer you can select this strategy more precisely by providing a specific strategy to `truncation`.\n"
     ]
    },
    {
     "data": {
      "text/plain": [
       "tensor([[-0.1237,  0.4869,  0.3250]], grad_fn=<AddmmBackward0>)"
      ]
     },
     "execution_count": 34,
     "metadata": {},
     "output_type": "execute_result"
    }
   ],
   "source": [
    "article1= X_val_raw[818]\n",
    "article1_tokens = tokenizer(article1, return_tensors=\"pt\", max_length= MAX_LENGTH)\n",
    "\n",
    "model(**article1_tokens).logits"
   ]
  },
  {
   "cell_type": "code",
   "execution_count": 37,
   "metadata": {},
   "outputs": [
    {
     "name": "stderr",
     "output_type": "stream",
     "text": [
      "PyTorch: setting up devices\n",
      "The default value for the training argument `--report_to` will change in v5 (from all installed integrations to none). In v5, you will need to use `--report_to all` to get the same behavior as now. You should start updating your code and make this info disappear :-).\n",
      "The following columns in the training set don't have a corresponding argument in `BertForSequenceClassification.forward` and have been ignored: content. If content are not expected by `BertForSequenceClassification.forward`,  you can safely ignore this message.\n",
      "/home/msalvador45/anaconda3/envs/nlpProj/lib/python3.9/site-packages/transformers/optimization.py:306: FutureWarning: This implementation of AdamW is deprecated and will be removed in a future version. Use the PyTorch implementation torch.optim.AdamW instead, or set `no_deprecation_warning=True` to disable this warning\n",
      "  warnings.warn(\n",
      "***** Running training *****\n",
      "  Num examples = 6608\n",
      "  Num Epochs = 4\n",
      "  Instantaneous batch size per device = 10\n",
      "  Total train batch size (w. parallel, distributed & accumulation) = 10\n",
      "  Gradient Accumulation steps = 1\n",
      "  Total optimization steps = 2644\n",
      "  Number of trainable parameters = 108312579\n"
     ]
    },
    {
     "data": {
      "text/html": [
       "\n",
       "    <div>\n",
       "      \n",
       "      <progress value='2644' max='2644' style='width:300px; height:20px; vertical-align: middle;'></progress>\n",
       "      [2644/2644 49:58, Epoch 4/4]\n",
       "    </div>\n",
       "    <table border=\"1\" class=\"dataframe\">\n",
       "  <thead>\n",
       " <tr style=\"text-align: left;\">\n",
       "      <th>Step</th>\n",
       "      <th>Training Loss</th>\n",
       "      <th>Validation Loss</th>\n",
       "      <th>Accuracy</th>\n",
       "    </tr>\n",
       "  </thead>\n",
       "  <tbody>\n",
       "    <tr>\n",
       "      <td>500</td>\n",
       "      <td>0.601800</td>\n",
       "      <td>0.792024</td>\n",
       "      <td>0.682948</td>\n",
       "    </tr>\n",
       "    <tr>\n",
       "      <td>1000</td>\n",
       "      <td>0.583400</td>\n",
       "      <td>0.774717</td>\n",
       "      <td>0.694944</td>\n",
       "    </tr>\n",
       "    <tr>\n",
       "      <td>1500</td>\n",
       "      <td>0.428100</td>\n",
       "      <td>1.340500</td>\n",
       "      <td>0.682948</td>\n",
       "    </tr>\n",
       "    <tr>\n",
       "      <td>2000</td>\n",
       "      <td>0.284000</td>\n",
       "      <td>1.349720</td>\n",
       "      <td>0.706941</td>\n",
       "    </tr>\n",
       "    <tr>\n",
       "      <td>2500</td>\n",
       "      <td>0.137400</td>\n",
       "      <td>1.797152</td>\n",
       "      <td>0.701799</td>\n",
       "    </tr>\n",
       "  </tbody>\n",
       "</table><p>"
      ],
      "text/plain": [
       "<IPython.core.display.HTML object>"
      ]
     },
     "metadata": {},
     "output_type": "display_data"
    },
    {
     "name": "stderr",
     "output_type": "stream",
     "text": [
      "The following columns in the evaluation set don't have a corresponding argument in `BertForSequenceClassification.forward` and have been ignored: content. If content are not expected by `BertForSequenceClassification.forward`,  you can safely ignore this message.\n",
      "***** Running Evaluation *****\n",
      "  Num examples = 1167\n",
      "  Batch size = 10\n",
      "Saving model checkpoint to train_output/checkpoint-500\n",
      "Configuration saved in train_output/checkpoint-500/config.json\n",
      "Model weights saved in train_output/checkpoint-500/pytorch_model.bin\n",
      "The following columns in the evaluation set don't have a corresponding argument in `BertForSequenceClassification.forward` and have been ignored: content. If content are not expected by `BertForSequenceClassification.forward`,  you can safely ignore this message.\n",
      "***** Running Evaluation *****\n",
      "  Num examples = 1167\n",
      "  Batch size = 10\n",
      "Saving model checkpoint to train_output/checkpoint-1000\n",
      "Configuration saved in train_output/checkpoint-1000/config.json\n",
      "Model weights saved in train_output/checkpoint-1000/pytorch_model.bin\n",
      "The following columns in the evaluation set don't have a corresponding argument in `BertForSequenceClassification.forward` and have been ignored: content. If content are not expected by `BertForSequenceClassification.forward`,  you can safely ignore this message.\n",
      "***** Running Evaluation *****\n",
      "  Num examples = 1167\n",
      "  Batch size = 10\n",
      "Saving model checkpoint to train_output/checkpoint-1500\n",
      "Configuration saved in train_output/checkpoint-1500/config.json\n",
      "Model weights saved in train_output/checkpoint-1500/pytorch_model.bin\n",
      "The following columns in the evaluation set don't have a corresponding argument in `BertForSequenceClassification.forward` and have been ignored: content. If content are not expected by `BertForSequenceClassification.forward`,  you can safely ignore this message.\n",
      "***** Running Evaluation *****\n",
      "  Num examples = 1167\n",
      "  Batch size = 10\n",
      "Saving model checkpoint to train_output/checkpoint-2000\n",
      "Configuration saved in train_output/checkpoint-2000/config.json\n",
      "Model weights saved in train_output/checkpoint-2000/pytorch_model.bin\n",
      "The following columns in the evaluation set don't have a corresponding argument in `BertForSequenceClassification.forward` and have been ignored: content. If content are not expected by `BertForSequenceClassification.forward`,  you can safely ignore this message.\n",
      "***** Running Evaluation *****\n",
      "  Num examples = 1167\n",
      "  Batch size = 10\n",
      "Saving model checkpoint to train_output/checkpoint-2500\n",
      "Configuration saved in train_output/checkpoint-2500/config.json\n",
      "Model weights saved in train_output/checkpoint-2500/pytorch_model.bin\n",
      "\n",
      "\n",
      "Training completed. Do not forget to share your model on huggingface.co/models =)\n",
      "\n",
      "\n",
      "The following columns in the evaluation set don't have a corresponding argument in `BertForSequenceClassification.forward` and have been ignored: content. If content are not expected by `BertForSequenceClassification.forward`,  you can safely ignore this message.\n",
      "***** Running Evaluation *****\n",
      "  Num examples = 1167\n",
      "  Batch size = 10\n"
     ]
    },
    {
     "data": {
      "text/html": [
       "\n",
       "    <div>\n",
       "      \n",
       "      <progress value='117' max='117' style='width:300px; height:20px; vertical-align: middle;'></progress>\n",
       "      [117/117 00:26]\n",
       "    </div>\n",
       "    "
      ],
      "text/plain": [
       "<IPython.core.display.HTML object>"
      ]
     },
     "metadata": {},
     "output_type": "display_data"
    },
    {
     "data": {
      "text/plain": [
       "{'eval_loss': 1.7686362266540527,\n",
       " 'eval_accuracy': 0.700942587832048,\n",
       " 'eval_runtime': 26.426,\n",
       " 'eval_samples_per_second': 44.161,\n",
       " 'eval_steps_per_second': 4.427,\n",
       " 'epoch': 4.0}"
      ]
     },
     "execution_count": 37,
     "metadata": {},
     "output_type": "execute_result"
    }
   ],
   "source": [
    "\"\"\"train and tune model\"\"\"\n",
    "metric= load_metric(\"accuracy\")\n",
    "def compute_metrics(eval_pred):\n",
    "    logits, labels= eval_pred\n",
    "    predictions= np.argmax(logits, axis=-1)\n",
    "    return metric.compute(predictions=predictions, references= labels)\n",
    "\n",
    "training_args= TrainingArguments(num_train_epochs=4,\n",
    "                                 do_train=True,\n",
    "                                 report_to=None,\n",
    "                                 output_dir=\"train_output\",\n",
    "                                 evaluation_strategy=\"steps\",\n",
    "                                 eval_steps=500,\n",
    "                                 per_device_train_batch_size=10,\n",
    "                                 per_device_eval_batch_size=10)\n",
    "\n",
    "trainer= Trainer(model= model,\n",
    "                 args= training_args,\n",
    "                 train_dataset= ds_train,\n",
    "                 eval_dataset= ds_eval,\n",
    "                 compute_metrics= compute_metrics)\n",
    "\n",
    "torch.set_grad_enabled(True)\n",
    "trainer.train()\n",
    "trainer.evaluate()"
   ]
  }
 ],
 "metadata": {
  "kernelspec": {
   "display_name": "Python 3",
   "language": "python",
   "name": "python3"
  },
  "language_info": {
   "codemirror_mode": {
    "name": "ipython",
    "version": 3
   },
   "file_extension": ".py",
   "mimetype": "text/x-python",
   "name": "python",
   "nbconvert_exporter": "python",
   "pygments_lexer": "ipython3",
   "version": "3.9.13"
  },
  "vscode": {
   "interpreter": {
    "hash": "b34940b68f42765500b06a5bff1526c43e9cf16917429620a7b1b96d08e5bb48"
   }
  }
 },
 "nbformat": 4,
 "nbformat_minor": 2
}
