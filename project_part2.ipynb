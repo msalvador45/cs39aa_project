{
 "cells": [
  {
   "cell_type": "markdown",
   "metadata": {},
   "source": [
    "# Project Part 1\n",
    "\n",
    "[![Kaggle](https://kaggle.com/static/images/open-in-kaggle.svg)](https://kaggle.com/kernels/welcome?src=https://github.com/sgeinitz/cs39aa_project/blob/main/project_part1.ipynb)\n",
    "\n",
    "[![Open In Colab](https://colab.research.google.com/assets/colab-badge.svg)](https://colab.research.google.com/github/sgeinitz/cs39aa_project/blob/main/project_part1.ipynb)\n",
    "\n"
   ]
  },
  {
   "cell_type": "markdown",
   "metadata": {},
   "source": [
    "## Introduction/Background\n",
    "\n",
    "In this project I will attempting to train a model to predict news media bias. In order to do this I will be utilizing the dataset NLPCSS-20 from the Association for Computational Linguistics which can be found on Github. The dataset is a collection or corpus contrived of 6,964 news articles. The labels of how we describe the corpus are the following:\n",
    "- title: title of news article\n",
    "- content: content of news article\n",
    "- source: source of the content\n",
    "- allsides-bias: bias (left, center or right)\n",
    "- misc: aurhor, date, etc\n",
    "- adfontes_fair: how fair is the news article (bias, neutral or unknown)\n",
    "- adfontes_political: how political bias skewed the article is (bias, neutral or unknown)\n",
    "- event_id:event id\n",
    "\n",
    "This is a text classification problem as how we are trying to classify combination of strings that demonstrate wheter a news content is politically bias or not. The combination of strings is the content itself, it is then labeled with how bias that content is. \n"
   ]
  },
  {
   "cell_type": "markdown",
   "metadata": {},
   "source": [
    "## Exploratory Data Analysis\n",
    "\n",
    "First step is to analyze the data we have in order to figure out how our data looks like and what it is trying to tell us.\n",
    "\n",
    "The dataset comes in a Json file so there are extra steps as to converting the data into a dataframe."
   ]
  },
  {
   "cell_type": "code",
   "execution_count": 1,
   "metadata": {
    "scrolled": false
   },
   "outputs": [],
   "source": [
    "# import all of the python modules/packages you'll need here\n",
    "import nltk\n",
    "import seaborn as sns\n",
    "import pandas as pd\n",
    "import matplotlib.pyplot as plt\n",
    "\n",
    "#nltk.download('wordnet')\n",
    "#nltk.download('wordnet')\n",
    "#nltk.download('omw-1.4')"
   ]
  },
  {
   "cell_type": "markdown",
   "metadata": {},
   "source": [
    "As we can oberseve the json data set is not able to be formatted into a dataframe, this is becuase its format is unsupported by pandas and will have to be reformated."
   ]
  },
  {
   "cell_type": "code",
   "execution_count": 2,
   "metadata": {},
   "outputs": [
    {
     "name": "stdout",
     "output_type": "stream",
     "text": [
      "             source                                              title  \\\n",
      "0          Fox News  Trump blasts Howard Schultz, says ex-Starbucks...   \n",
      "1         USA TODAY  Trump blasts former Starbucks CEO Howard Schul...   \n",
      "2  Washington Times  Mick Mulvaney: Trump to secure border 'with or...   \n",
      "3  Washington Times  Trump says 'we'll do the emergency' if border ...   \n",
      "\n",
      "   event_id adfontes_fair adfontes_political    allsides_bias  \\\n",
      "0         0          bias               bias   From the Right   \n",
      "1         0          bias            neutral  From the Center   \n",
      "2         0          bias            neutral   From the Right   \n",
      "3         0          bias            neutral   From the Right   \n",
      "\n",
      "                                             content  \\\n",
      "0  Obama administration alum Roger Fisk and Repub...   \n",
      "1  WASHINGTON – President Donald Trump took a swi...   \n",
      "2  Acting White House chief of staff Mick Mulvane...   \n",
      "3  President Trump repeated his vow Friday to dec...   \n",
      "\n",
      "                                                misc  \n",
      "0  {'time': '2019-01-28 16:10:44.680484', 'topics...  \n",
      "1  {'time': 'None', 'topics': 'Election: Presiden...  \n",
      "2  {'time': 'None', 'topics': 'White House', 'aut...  \n",
      "3  {'time': 'None', 'topics': 'White House, Polit...  \n"
     ]
    }
   ],
   "source": [
    "# convert json file to dataframe\n",
    "# path has original data, path2 is a small excerpt from og data w/ a fix to check if it is able to reformatt into df\n",
    "path= \"NLPCSS-20-main/data/released_data.json\"\n",
    "path2= \"NLPCSS-20-main/data/example.json\"\n",
    "\n",
    "# test_df = pd.read_json(path, orient='records')\n",
    "test_df2 = pd.read_json(path2, orient='records')\n",
    "\n",
    "# print(test_df)\n",
    "print (test_df2)"
   ]
  },
  {
   "cell_type": "code",
   "execution_count": 3,
   "metadata": {},
   "outputs": [],
   "source": [
    "#path to reformatted json file\n",
    "path_data= 'NLPCSS-20-main/data/data.json'\n",
    "#reformatt json file\n",
    "with open(path, 'r') as rf:\n",
    "    with open(path_data, 'w') as wf:\n",
    "        #add [ at the beginning of the corpus\n",
    "        wf.write('[\\n')\n",
    "        #add a comma at the end of each line\n",
    "        lines= rf.read().splitlines()\n",
    "        new_line= ',\\n'.join(lines)\n",
    "        wf.write(new_line)\n",
    "        #add ] at the end of the corpus\n",
    "        wf.write('\\n]')\n",
    "        \n"
   ]
  },
  {
   "cell_type": "markdown",
   "metadata": {},
   "source": [
    "We can now convert data into a pandas dataframe and checkout initial observations"
   ]
  },
  {
   "cell_type": "code",
   "execution_count": 4,
   "metadata": {},
   "outputs": [
    {
     "data": {
      "text/html": [
       "<div>\n",
       "<style scoped>\n",
       "    .dataframe tbody tr th:only-of-type {\n",
       "        vertical-align: middle;\n",
       "    }\n",
       "\n",
       "    .dataframe tbody tr th {\n",
       "        vertical-align: top;\n",
       "    }\n",
       "\n",
       "    .dataframe thead th {\n",
       "        text-align: right;\n",
       "    }\n",
       "</style>\n",
       "<table border=\"1\" class=\"dataframe\">\n",
       "  <thead>\n",
       "    <tr style=\"text-align: right;\">\n",
       "      <th></th>\n",
       "      <th>source</th>\n",
       "      <th>title</th>\n",
       "      <th>event_id</th>\n",
       "      <th>adfontes_fair</th>\n",
       "      <th>adfontes_political</th>\n",
       "      <th>allsides_bias</th>\n",
       "      <th>content</th>\n",
       "      <th>misc</th>\n",
       "    </tr>\n",
       "  </thead>\n",
       "  <tbody>\n",
       "    <tr>\n",
       "      <th>0</th>\n",
       "      <td>Fox News</td>\n",
       "      <td>Trump blasts Howard Schultz, says ex-Starbucks...</td>\n",
       "      <td>0</td>\n",
       "      <td>bias</td>\n",
       "      <td>bias</td>\n",
       "      <td>From the Right</td>\n",
       "      <td>Obama administration alum Roger Fisk and Repub...</td>\n",
       "      <td>{'time': '2019-01-28 16:10:44.680484', 'topics...</td>\n",
       "    </tr>\n",
       "    <tr>\n",
       "      <th>1</th>\n",
       "      <td>USA TODAY</td>\n",
       "      <td>Trump blasts former Starbucks CEO Howard Schul...</td>\n",
       "      <td>0</td>\n",
       "      <td>bias</td>\n",
       "      <td>neutral</td>\n",
       "      <td>From the Center</td>\n",
       "      <td>WASHINGTON – President Donald Trump took a swi...</td>\n",
       "      <td>{'time': 'None', 'topics': 'Election: Presiden...</td>\n",
       "    </tr>\n",
       "    <tr>\n",
       "      <th>2</th>\n",
       "      <td>Washington Times</td>\n",
       "      <td>Mick Mulvaney: Trump to secure border 'with or...</td>\n",
       "      <td>0</td>\n",
       "      <td>bias</td>\n",
       "      <td>neutral</td>\n",
       "      <td>From the Right</td>\n",
       "      <td>Acting White House chief of staff Mick Mulvane...</td>\n",
       "      <td>{'time': 'None', 'topics': 'White House', 'aut...</td>\n",
       "    </tr>\n",
       "  </tbody>\n",
       "</table>\n",
       "</div>"
      ],
      "text/plain": [
       "             source                                              title  \\\n",
       "0          Fox News  Trump blasts Howard Schultz, says ex-Starbucks...   \n",
       "1         USA TODAY  Trump blasts former Starbucks CEO Howard Schul...   \n",
       "2  Washington Times  Mick Mulvaney: Trump to secure border 'with or...   \n",
       "\n",
       "   event_id adfontes_fair adfontes_political    allsides_bias  \\\n",
       "0         0          bias               bias   From the Right   \n",
       "1         0          bias            neutral  From the Center   \n",
       "2         0          bias            neutral   From the Right   \n",
       "\n",
       "                                             content  \\\n",
       "0  Obama administration alum Roger Fisk and Repub...   \n",
       "1  WASHINGTON – President Donald Trump took a swi...   \n",
       "2  Acting White House chief of staff Mick Mulvane...   \n",
       "\n",
       "                                                misc  \n",
       "0  {'time': '2019-01-28 16:10:44.680484', 'topics...  \n",
       "1  {'time': 'None', 'topics': 'Election: Presiden...  \n",
       "2  {'time': 'None', 'topics': 'White House', 'aut...  "
      ]
     },
     "execution_count": 4,
     "metadata": {},
     "output_type": "execute_result"
    }
   ],
   "source": [
    "\"\"\"Convert reformatted dataset into dataframe\"\"\"\n",
    "df = pd.read_json(path_data, orient='records')\n",
    "\n",
    "df.head(3)"
   ]
  },
  {
   "cell_type": "markdown",
   "metadata": {},
   "source": [
    "Now lets do some basic pandas data exploration to get a sense of the data.\n",
    "There are 7775 observations with 8 columns, but it seems as we might not have to use all columns."
   ]
  },
  {
   "cell_type": "code",
   "execution_count": 5,
   "metadata": {},
   "outputs": [
    {
     "name": "stdout",
     "output_type": "stream",
     "text": [
      "<class 'pandas.core.frame.DataFrame'>\n",
      "RangeIndex: 7775 entries, 0 to 7774\n",
      "Data columns (total 8 columns):\n",
      " #   Column              Non-Null Count  Dtype \n",
      "---  ------              --------------  ----- \n",
      " 0   source              7775 non-null   object\n",
      " 1   title               7775 non-null   object\n",
      " 2   event_id            7775 non-null   int64 \n",
      " 3   adfontes_fair       7775 non-null   object\n",
      " 4   adfontes_political  7775 non-null   object\n",
      " 5   allsides_bias       7775 non-null   object\n",
      " 6   content             7775 non-null   object\n",
      " 7   misc                7775 non-null   object\n",
      "dtypes: int64(1), object(7)\n",
      "memory usage: 486.1+ KB\n",
      "None\n",
      "\n",
      "The shape of dataset as of right now is  (7775, 8)\n"
     ]
    }
   ],
   "source": [
    "print(df.info())\n",
    "print(\"\\nThe shape of dataset as of right now is \", df.shape)\n"
   ]
  },
  {
   "cell_type": "markdown",
   "metadata": {},
   "source": [
    "We want to deal with a simple model first so we will proceed to only use 'content' and 'allsides_bias' first, and we can drop every other column."
   ]
  },
  {
   "cell_type": "code",
   "execution_count": 6,
   "metadata": {},
   "outputs": [
    {
     "data": {
      "text/html": [
       "<div>\n",
       "<style scoped>\n",
       "    .dataframe tbody tr th:only-of-type {\n",
       "        vertical-align: middle;\n",
       "    }\n",
       "\n",
       "    .dataframe tbody tr th {\n",
       "        vertical-align: top;\n",
       "    }\n",
       "\n",
       "    .dataframe thead th {\n",
       "        text-align: right;\n",
       "    }\n",
       "</style>\n",
       "<table border=\"1\" class=\"dataframe\">\n",
       "  <thead>\n",
       "    <tr style=\"text-align: right;\">\n",
       "      <th></th>\n",
       "      <th>allsides_bias</th>\n",
       "      <th>content</th>\n",
       "    </tr>\n",
       "  </thead>\n",
       "  <tbody>\n",
       "    <tr>\n",
       "      <th>0</th>\n",
       "      <td>From the Right</td>\n",
       "      <td>obama administration alum roger fisk and repub...</td>\n",
       "    </tr>\n",
       "    <tr>\n",
       "      <th>1</th>\n",
       "      <td>From the Center</td>\n",
       "      <td>washington – president donald trump took a swi...</td>\n",
       "    </tr>\n",
       "    <tr>\n",
       "      <th>2</th>\n",
       "      <td>From the Right</td>\n",
       "      <td>acting white house chief of staff mick mulvane...</td>\n",
       "    </tr>\n",
       "    <tr>\n",
       "      <th>3</th>\n",
       "      <td>From the Right</td>\n",
       "      <td>president trump repeated his vow friday to dec...</td>\n",
       "    </tr>\n",
       "    <tr>\n",
       "      <th>4</th>\n",
       "      <td>From the Center</td>\n",
       "      <td>president donald trump has yielded to politica...</td>\n",
       "    </tr>\n",
       "  </tbody>\n",
       "</table>\n",
       "</div>"
      ],
      "text/plain": [
       "     allsides_bias                                            content\n",
       "0   From the Right  obama administration alum roger fisk and repub...\n",
       "1  From the Center  washington – president donald trump took a swi...\n",
       "2   From the Right  acting white house chief of staff mick mulvane...\n",
       "3   From the Right  president trump repeated his vow friday to dec...\n",
       "4  From the Center  president donald trump has yielded to politica..."
      ]
     },
     "execution_count": 6,
     "metadata": {},
     "output_type": "execute_result"
    }
   ],
   "source": [
    "df.drop(columns=['source','title','event_id','misc','adfontes_fair','adfontes_political'], inplace=True)\n",
    "#lowercase the content column\n",
    "df['content']= df['content'].str.lower()\n",
    "df.head()"
   ]
  },
  {
   "cell_type": "markdown",
   "metadata": {},
   "source": [
    "Lets see the shape and columns of our remodified data frame as well as the unique values of our allsides_bias and its value counts."
   ]
  },
  {
   "cell_type": "code",
   "execution_count": 7,
   "metadata": {},
   "outputs": [
    {
     "name": "stdout",
     "output_type": "stream",
     "text": [
      "<class 'pandas.core.frame.DataFrame'>\n",
      "RangeIndex: 7775 entries, 0 to 7774\n",
      "Data columns (total 2 columns):\n",
      " #   Column         Non-Null Count  Dtype \n",
      "---  ------         --------------  ----- \n",
      " 0   allsides_bias  7775 non-null   object\n",
      " 1   content        7775 non-null   object\n",
      "dtypes: object(2)\n",
      "memory usage: 121.6+ KB\n",
      "None\n",
      "\n",
      "The shape of dataset as of right now is  (7775, 2) \n",
      "\n",
      "The unique values for allsides_bias is:\n",
      " ['From the Right' 'From the Center' 'From the Left'] \n",
      "\n"
     ]
    },
    {
     "data": {
      "text/plain": [
       "From the Left      0.473826\n",
       "From the Right     0.366688\n",
       "From the Center    0.159486\n",
       "Name: allsides_bias, dtype: float64"
      ]
     },
     "execution_count": 7,
     "metadata": {},
     "output_type": "execute_result"
    }
   ],
   "source": [
    "print(df.info())\n",
    "print(\"\\nThe shape of dataset as of right now is \", df.shape,\"\\n\")\n",
    "print(\"The unique values for allsides_bias is:\\n\",df.allsides_bias.unique(),\"\\n\")\n",
    "df.allsides_bias.value_counts(normalize=True)"
   ]
  },
  {
   "cell_type": "markdown",
   "metadata": {},
   "source": [
    "We can see most results come from the left, around 37% com from the right and 15% are center biased.\n",
    "\n",
    "Now lets check for empty values in both columns."
   ]
  },
  {
   "cell_type": "code",
   "execution_count": 8,
   "metadata": {},
   "outputs": [
    {
     "data": {
      "text/plain": [
       "allsides_bias    0\n",
       "content          0\n",
       "dtype: int64"
      ]
     },
     "execution_count": 8,
     "metadata": {},
     "output_type": "execute_result"
    }
   ],
   "source": [
    "null_entries= df.isnull().sum()\n",
    "null_entries"
   ]
  },
  {
   "cell_type": "markdown",
   "metadata": {},
   "source": [
    "So our data frame as of now has two rows, and both contain values that are not empty or NaN.\n",
    "\n",
    "Lets take a look into the stopwords vs non-stopwords within the dataset"
   ]
  },
  {
   "cell_type": "code",
   "execution_count": 9,
   "metadata": {},
   "outputs": [
    {
     "name": "stdout",
     "output_type": "stream",
     "text": [
      "Bar graph of amt of stopwords in content:\n",
      "\n"
     ]
    },
    {
     "data": {
      "text/plain": [
       "<BarContainer object of 10 artists>"
      ]
     },
     "execution_count": 9,
     "metadata": {},
     "output_type": "execute_result"
    },
    {
     "data": {
      "image/png": "[encoded data removed]",
      "text/plain": [
       "<Figure size 640x480 with 1 Axes>"
      ]
     },
     "metadata": {},
     "output_type": "display_data"
    }
   ],
   "source": [
    "\"Create a corpus without stopwords\"\n",
    "from nltk.corpus import stopwords\n",
    "stops= set(stopwords.words('english'))\n",
    "\n",
    "corpus=[]\n",
    "new= df['content'].str.split()\n",
    "new= new.values.tolist()\n",
    "corpus=[word for i in new for word in i]\n",
    "\n",
    "from collections import defaultdict\n",
    "dic= defaultdict(int)\n",
    "for word in corpus:\n",
    "    if word in stops:\n",
    "        dic[word]+=1\n",
    "\n",
    "top= sorted(dic.items(), key=lambda x:x[1], reverse= True)[:10]\n",
    "x,y= zip(*top)\n",
    "print(\"Bar graph of amt of stopwords in content:\\n\")\n",
    "plt.bar(x,y)"
   ]
  },
  {
   "cell_type": "code",
   "execution_count": 10,
   "metadata": {},
   "outputs": [
    {
     "data": {
      "text/plain": [
       "<AxesSubplot:>"
      ]
     },
     "execution_count": 10,
     "metadata": {},
     "output_type": "execute_result"
    },
    {
     "data": {
      "image/png": "[encoded data removed]",
      "text/plain": [
       "<Figure size 640x480 with 1 Axes>"
      ]
     },
     "metadata": {},
     "output_type": "display_data"
    }
   ],
   "source": [
    "\"create a chart to show number of occurences of words in dataset\"\n",
    "from collections import Counter\n",
    "\n",
    "counter= Counter(corpus)\n",
    "most= counter.most_common()\n",
    "\n",
    "x,y= [], []\n",
    "for word, count in most[:40]:\n",
    "    if (word not in stops):\n",
    "        x.append(word)\n",
    "        y.append(count)\n",
    "\n",
    "sns.barplot(x=y, y=x)"
   ]
  },
  {
   "cell_type": "markdown",
   "metadata": {},
   "source": [
    "# Project Part II"
   ]
  },
  {
   "cell_type": "markdown",
   "metadata": {},
   "source": [
    "Before making a baseline for the model, we will want to process the dataset we will have to tokenize our data."
   ]
  },
  {
   "cell_type": "code",
   "execution_count": 11,
   "metadata": {},
   "outputs": [
    {
     "name": "stderr",
     "output_type": "stream",
     "text": [
      "[nltk_data] Downloading package punkt to\n",
      "[nltk_data]     /home/msalvador45/nltk_data...\n",
      "[nltk_data]   Package punkt is already up-to-date!\n"
     ]
    },
    {
     "data": {
      "text/html": [
       "<div>\n",
       "<style scoped>\n",
       "    .dataframe tbody tr th:only-of-type {\n",
       "        vertical-align: middle;\n",
       "    }\n",
       "\n",
       "    .dataframe tbody tr th {\n",
       "        vertical-align: top;\n",
       "    }\n",
       "\n",
       "    .dataframe thead th {\n",
       "        text-align: right;\n",
       "    }\n",
       "</style>\n",
       "<table border=\"1\" class=\"dataframe\">\n",
       "  <thead>\n",
       "    <tr style=\"text-align: right;\">\n",
       "      <th></th>\n",
       "      <th>allsides_bias</th>\n",
       "      <th>content</th>\n",
       "      <th>tokens_raw</th>\n",
       "    </tr>\n",
       "  </thead>\n",
       "  <tbody>\n",
       "    <tr>\n",
       "      <th>0</th>\n",
       "      <td>From the Right</td>\n",
       "      <td>obama administration alum roger fisk and repub...</td>\n",
       "      <td>[obama, administration, alum, roger, fisk, and...</td>\n",
       "    </tr>\n",
       "    <tr>\n",
       "      <th>1</th>\n",
       "      <td>From the Center</td>\n",
       "      <td>washington – president donald trump took a swi...</td>\n",
       "      <td>[washington, –, president, donald, trump, took...</td>\n",
       "    </tr>\n",
       "    <tr>\n",
       "      <th>2</th>\n",
       "      <td>From the Right</td>\n",
       "      <td>acting white house chief of staff mick mulvane...</td>\n",
       "      <td>[acting, white, house, chief, of, staff, mick,...</td>\n",
       "    </tr>\n",
       "    <tr>\n",
       "      <th>3</th>\n",
       "      <td>From the Right</td>\n",
       "      <td>president trump repeated his vow friday to dec...</td>\n",
       "      <td>[president, trump, repeated, his, vow, friday,...</td>\n",
       "    </tr>\n",
       "    <tr>\n",
       "      <th>4</th>\n",
       "      <td>From the Center</td>\n",
       "      <td>president donald trump has yielded to politica...</td>\n",
       "      <td>[president, donald, trump, has, yielded, to, p...</td>\n",
       "    </tr>\n",
       "  </tbody>\n",
       "</table>\n",
       "</div>"
      ],
      "text/plain": [
       "     allsides_bias                                            content  \\\n",
       "0   From the Right  obama administration alum roger fisk and repub...   \n",
       "1  From the Center  washington – president donald trump took a swi...   \n",
       "2   From the Right  acting white house chief of staff mick mulvane...   \n",
       "3   From the Right  president trump repeated his vow friday to dec...   \n",
       "4  From the Center  president donald trump has yielded to politica...   \n",
       "\n",
       "                                          tokens_raw  \n",
       "0  [obama, administration, alum, roger, fisk, and...  \n",
       "1  [washington, –, president, donald, trump, took...  \n",
       "2  [acting, white, house, chief, of, staff, mick,...  \n",
       "3  [president, trump, repeated, his, vow, friday,...  \n",
       "4  [president, donald, trump, has, yielded, to, p...  "
      ]
     },
     "execution_count": 11,
     "metadata": {},
     "output_type": "execute_result"
    }
   ],
   "source": [
    "\"Using nltk tokenize the dataset\"\n",
    "from nltk.tokenize import word_tokenize\n",
    "nltk.download('punkt')\n",
    "\n",
    "df['tokens_raw']= df['content'].apply(word_tokenize)\n",
    "df.head()"
   ]
  },
  {
   "cell_type": "markdown",
   "metadata": {},
   "source": [
    "As well as removing stopwords from the dataset"
   ]
  },
  {
   "cell_type": "code",
   "execution_count": 12,
   "metadata": {},
   "outputs": [
    {
     "data": {
      "text/html": [
       "<div>\n",
       "<style scoped>\n",
       "    .dataframe tbody tr th:only-of-type {\n",
       "        vertical-align: middle;\n",
       "    }\n",
       "\n",
       "    .dataframe tbody tr th {\n",
       "        vertical-align: top;\n",
       "    }\n",
       "\n",
       "    .dataframe thead th {\n",
       "        text-align: right;\n",
       "    }\n",
       "</style>\n",
       "<table border=\"1\" class=\"dataframe\">\n",
       "  <thead>\n",
       "    <tr style=\"text-align: right;\">\n",
       "      <th></th>\n",
       "      <th>allsides_bias</th>\n",
       "      <th>content</th>\n",
       "      <th>tokens_raw</th>\n",
       "    </tr>\n",
       "  </thead>\n",
       "  <tbody>\n",
       "    <tr>\n",
       "      <th>0</th>\n",
       "      <td>From the Right</td>\n",
       "      <td>obama administration alum roger fisk and repub...</td>\n",
       "      <td>[obama, administration, alum, roger, fisk, rep...</td>\n",
       "    </tr>\n",
       "    <tr>\n",
       "      <th>1</th>\n",
       "      <td>From the Center</td>\n",
       "      <td>washington – president donald trump took a swi...</td>\n",
       "      <td>[washington, –, president, donald, trump, took...</td>\n",
       "    </tr>\n",
       "    <tr>\n",
       "      <th>2</th>\n",
       "      <td>From the Right</td>\n",
       "      <td>acting white house chief of staff mick mulvane...</td>\n",
       "      <td>[acting, white, house, chief, staff, mick, mul...</td>\n",
       "    </tr>\n",
       "    <tr>\n",
       "      <th>3</th>\n",
       "      <td>From the Right</td>\n",
       "      <td>president trump repeated his vow friday to dec...</td>\n",
       "      <td>[president, trump, repeated, vow, friday, decl...</td>\n",
       "    </tr>\n",
       "    <tr>\n",
       "      <th>4</th>\n",
       "      <td>From the Center</td>\n",
       "      <td>president donald trump has yielded to politica...</td>\n",
       "      <td>[president, donald, trump, yielded, political,...</td>\n",
       "    </tr>\n",
       "  </tbody>\n",
       "</table>\n",
       "</div>"
      ],
      "text/plain": [
       "     allsides_bias                                            content  \\\n",
       "0   From the Right  obama administration alum roger fisk and repub...   \n",
       "1  From the Center  washington – president donald trump took a swi...   \n",
       "2   From the Right  acting white house chief of staff mick mulvane...   \n",
       "3   From the Right  president trump repeated his vow friday to dec...   \n",
       "4  From the Center  president donald trump has yielded to politica...   \n",
       "\n",
       "                                          tokens_raw  \n",
       "0  [obama, administration, alum, roger, fisk, rep...  \n",
       "1  [washington, –, president, donald, trump, took...  \n",
       "2  [acting, white, house, chief, staff, mick, mul...  \n",
       "3  [president, trump, repeated, vow, friday, decl...  \n",
       "4  [president, donald, trump, yielded, political,...  "
      ]
     },
     "execution_count": 12,
     "metadata": {},
     "output_type": "execute_result"
    }
   ],
   "source": [
    "import re\n",
    "\n",
    "chars2remove= set(['.','!','/','?','#','-']) \n",
    "#stops contains our stopwords\n",
    "df['tokens_raw']= df['tokens_raw'].apply(lambda x: [w for w in x if w not in stops])\n",
    "df['tokens_raw']= df['tokens_raw'].apply(lambda x: [w for w in x if w not in chars2remove])\n",
    "df['tokens_raw']= df['tokens_raw'].apply(lambda x: [w for w in x if not re.match('^http',w)])\n",
    "df['tokens_raw']= df['tokens_raw'].apply(lambda x: [w for w in x if not re.match('^@', w)])\n",
    "df.head()"
   ]
  },
  {
   "cell_type": "markdown",
   "metadata": {},
   "source": [
    "Now we will proceed to lemmetize our tokens"
   ]
  },
  {
   "cell_type": "code",
   "execution_count": 13,
   "metadata": {},
   "outputs": [
    {
     "data": {
      "text/html": [
       "<div>\n",
       "<style scoped>\n",
       "    .dataframe tbody tr th:only-of-type {\n",
       "        vertical-align: middle;\n",
       "    }\n",
       "\n",
       "    .dataframe tbody tr th {\n",
       "        vertical-align: top;\n",
       "    }\n",
       "\n",
       "    .dataframe thead th {\n",
       "        text-align: right;\n",
       "    }\n",
       "</style>\n",
       "<table border=\"1\" class=\"dataframe\">\n",
       "  <thead>\n",
       "    <tr style=\"text-align: right;\">\n",
       "      <th></th>\n",
       "      <th>allsides_bias</th>\n",
       "      <th>content</th>\n",
       "      <th>tokens_raw</th>\n",
       "      <th>tokens</th>\n",
       "    </tr>\n",
       "  </thead>\n",
       "  <tbody>\n",
       "    <tr>\n",
       "      <th>0</th>\n",
       "      <td>From the Right</td>\n",
       "      <td>obama administration alum roger fisk and repub...</td>\n",
       "      <td>[obama, administration, alum, roger, fisk, rep...</td>\n",
       "      <td>[obama, administration, alum, roger, fisk, rep...</td>\n",
       "    </tr>\n",
       "    <tr>\n",
       "      <th>1</th>\n",
       "      <td>From the Center</td>\n",
       "      <td>washington – president donald trump took a swi...</td>\n",
       "      <td>[washington, –, president, donald, trump, took...</td>\n",
       "      <td>[washington, –, president, donald, trump, take...</td>\n",
       "    </tr>\n",
       "    <tr>\n",
       "      <th>2</th>\n",
       "      <td>From the Right</td>\n",
       "      <td>acting white house chief of staff mick mulvane...</td>\n",
       "      <td>[acting, white, house, chief, staff, mick, mul...</td>\n",
       "      <td>[act, white, house, chief, staff, mick, mulvan...</td>\n",
       "    </tr>\n",
       "    <tr>\n",
       "      <th>3</th>\n",
       "      <td>From the Right</td>\n",
       "      <td>president trump repeated his vow friday to dec...</td>\n",
       "      <td>[president, trump, repeated, vow, friday, decl...</td>\n",
       "      <td>[president, trump, repeat, vow, friday, declar...</td>\n",
       "    </tr>\n",
       "    <tr>\n",
       "      <th>4</th>\n",
       "      <td>From the Center</td>\n",
       "      <td>president donald trump has yielded to politica...</td>\n",
       "      <td>[president, donald, trump, yielded, political,...</td>\n",
       "      <td>[president, donald, trump, yield, political, p...</td>\n",
       "    </tr>\n",
       "  </tbody>\n",
       "</table>\n",
       "</div>"
      ],
      "text/plain": [
       "     allsides_bias                                            content  \\\n",
       "0   From the Right  obama administration alum roger fisk and repub...   \n",
       "1  From the Center  washington – president donald trump took a swi...   \n",
       "2   From the Right  acting white house chief of staff mick mulvane...   \n",
       "3   From the Right  president trump repeated his vow friday to dec...   \n",
       "4  From the Center  president donald trump has yielded to politica...   \n",
       "\n",
       "                                          tokens_raw  \\\n",
       "0  [obama, administration, alum, roger, fisk, rep...   \n",
       "1  [washington, –, president, donald, trump, took...   \n",
       "2  [acting, white, house, chief, staff, mick, mul...   \n",
       "3  [president, trump, repeated, vow, friday, decl...   \n",
       "4  [president, donald, trump, yielded, political,...   \n",
       "\n",
       "                                              tokens  \n",
       "0  [obama, administration, alum, roger, fisk, rep...  \n",
       "1  [washington, –, president, donald, trump, take...  \n",
       "2  [act, white, house, chief, staff, mick, mulvan...  \n",
       "3  [president, trump, repeat, vow, friday, declar...  \n",
       "4  [president, donald, trump, yield, political, p...  "
      ]
     },
     "execution_count": 13,
     "metadata": {},
     "output_type": "execute_result"
    }
   ],
   "source": [
    "from nltk.stem import WordNetLemmatizer\n",
    "\n",
    "lemmatizer= WordNetLemmatizer()\n",
    "df['tokens']= df['tokens_raw'].apply(lambda x: [lemmatizer.lemmatize(w, pos=\"v\") for w in x])\n",
    "df.head()\n"
   ]
  },
  {
   "cell_type": "markdown",
   "metadata": {},
   "source": [
    "## Splitting Data into Train, Validation and Test\n",
    "This dataset will be using an 80-20-20 split which we'll do now"
   ]
  },
  {
   "cell_type": "code",
   "execution_count": 14,
   "metadata": {},
   "outputs": [],
   "source": [
    "from sklearn.model_selection import train_test_split\n",
    "\n",
    "X= df['content'].copy()\n",
    "y= df['allsides_bias'].copy()\n",
    "\n",
    "#Our training split and testing split\n",
    "X_train_raw, X_test_raw, y_train, y_test= train_test_split(X, y, test_size=0.20, random_state=42)\n",
    "#Our validation and training split\n",
    "X_train_raw, X_val_raw, y_train, y_val= train_test_split(X_train_raw, y_train, test_size=.20, random_state=42)"
   ]
  },
  {
   "cell_type": "code",
   "execution_count": 15,
   "metadata": {},
   "outputs": [
    {
     "name": "stdout",
     "output_type": "stream",
     "text": [
      "validation amt: (1244,)\n",
      "testing amt: (1555,)\n",
      "training amt: (4976,)\n"
     ]
    }
   ],
   "source": [
    "print(\"validation amt:\",y_val.shape)\n",
    "print(\"testing amt:\",y_test.shape)\n",
    "print(\"training amt:\",y_train.shape)\n",
    "#X_train_raw.shape"
   ]
  },
  {
   "cell_type": "markdown",
   "metadata": {},
   "source": [
    "## Create a baseline model using Random Forest\n",
    "We will first vectorize our dataset"
   ]
  },
  {
   "cell_type": "code",
   "execution_count": 16,
   "metadata": {},
   "outputs": [
    {
     "name": "stdout",
     "output_type": "stream",
     "text": [
      "X_train.shape= (4976, 50905)\n"
     ]
    }
   ],
   "source": [
    "from sklearn.feature_extraction.text import TfidfVectorizer\n",
    "vectorizer= TfidfVectorizer()\n",
    "X_train= vectorizer.fit_transform(X_train_raw).toarray()\n",
    "\n",
    "print(f\"X_train.shape= {X_train.shape}\")"
   ]
  },
  {
   "cell_type": "markdown",
   "metadata": {},
   "source": [
    "The baseline model I decided to use is Random Forest "
   ]
  },
  {
   "cell_type": "code",
   "execution_count": 17,
   "metadata": {},
   "outputs": [
    {
     "name": "stdout",
     "output_type": "stream",
     "text": [
      "accuracy (on X_train): 0.9984\n"
     ]
    },
    {
     "data": {
      "image/png": "[encoded data removed]",
      "text/plain": [
       "<Figure size 640x480 with 2 Axes>"
      ]
     },
     "metadata": {},
     "output_type": "display_data"
    }
   ],
   "source": [
    "from sklearn.ensemble import RandomForestClassifier\n",
    "from sklearn.metrics import confusion_matrix, ConfusionMatrixDisplay, accuracy_score\n",
    "\n",
    "model= RandomForestClassifier(n_estimators=25)\n",
    "model= model.fit(X_train, y_train)\n",
    "\n",
    "predictions_train= model.predict(X_train)\n",
    "\n",
    "disp= ConfusionMatrixDisplay(confusion_matrix(y_train, predictions_train),\\\n",
    "    display_labels=['From the Center', 'From the Left', 'From the Right'])\n",
    "disp.plot()\n",
    "print(f\"accuracy (on X_train): {accuracy_score(y_train, predictions_train):.4f}\")"
   ]
  },
  {
   "cell_type": "markdown",
   "metadata": {},
   "source": [
    "We will compare the performance with our testing set"
   ]
  },
  {
   "cell_type": "code",
   "execution_count": 18,
   "metadata": {},
   "outputs": [
    {
     "name": "stdout",
     "output_type": "stream",
     "text": [
      "X_val.shape= (1244, 50905)\n"
     ]
    },
    {
     "data": {
      "text/plain": [
       "numpy.ndarray"
      ]
     },
     "execution_count": 18,
     "metadata": {},
     "output_type": "execute_result"
    }
   ],
   "source": [
    "\"Vectorize the validation data\"\n",
    "X_val= vectorizer.transform(X_val_raw).toarray()\n",
    "print(f\"X_val.shape= {X_val.shape}\")\n",
    "type(X_val)"
   ]
  },
  {
   "cell_type": "code",
   "execution_count": 19,
   "metadata": {},
   "outputs": [
    {
     "name": "stdout",
     "output_type": "stream",
     "text": [
      "accuracy (on X_train): 0.6736\n"
     ]
    },
    {
     "data": {
      "image/png": "[encoded data removed]",
      "text/plain": [
       "<Figure size 640x480 with 2 Axes>"
      ]
     },
     "metadata": {},
     "output_type": "display_data"
    }
   ],
   "source": [
    "\"predict with validation set\"\n",
    "predictions_val= model.predict(X_val)\n",
    "disp= ConfusionMatrixDisplay(confusion_matrix(y_val, predictions_val),\\\n",
    "    display_labels=['From the Center', 'From the Left', 'From the Right'])\n",
    "disp.plot()\n",
    "print(f\"accuracy (on X_train): {accuracy_score(y_val, predictions_val):.4f}\")"
   ]
  },
  {
   "cell_type": "markdown",
   "metadata": {},
   "source": [
    "We can see the performance is not as good as the training data set, but we can now play with the hyperparameters"
   ]
  },
  {
   "cell_type": "code",
   "execution_count": 20,
   "metadata": {},
   "outputs": [],
   "source": [
    "from sklearn.metrics import log_loss\n",
    "\n",
    "tune_model= True\n",
    "\n",
    "def tuneModel(hyperparam_value):\n",
    "    rf_model= RandomForestClassifier(n_estimators=hyperparam_value, random_state=5)\n",
    "    rf_model.fit(X_train, y_train)\n",
    "    y_train_pred_prob= rf_model.predict_proba(X_train)\n",
    "    y_train_pred= rf_model.predict(X_train)\n",
    "    y_val_pred_prob= rf_model.predict_proba(X_val)\n",
    "    y_val_pred= rf_model.predict(X_val)\n",
    "    train_loss= log_loss(y_train, y_train_pred_prob, labels=['From the Center','From the Left', 'From the Right'])\n",
    "    train_acc= accuracy_score(y_train, y_train_pred)\n",
    "    val_loss= log_loss(y_val, y_val_pred_prob, labels=['From the Center','From the Left', 'From the Right'])\n",
    "    val_acc= accuracy_score(y_val, y_val_pred)\n",
    "    return (train_loss, val_loss, train_acc, val_acc)\n",
    "\n",
    "hyp_param_vals= list(range(10, 261, 50))\n",
    "metrics= []\n",
    "\n",
    "if tune_model:\n",
    "    for hp in hyp_param_vals:\n",
    "        metrics.append(tuneModel(hp))\n"
   ]
  },
  {
   "cell_type": "code",
   "execution_count": null,
   "metadata": {},
   "outputs": [
    {
     "data": {
      "text/plain": [
       "[Text(0.5, 0, 'n_estimators'), Text(0, 0.5, 'loss (lower is better)')]"
      ]
     },
     "execution_count": 21,
     "metadata": {},
     "output_type": "execute_result"
    },
    {
     "data": {
      "image/png": "[encoded data removed]",
      "text/plain": [
       "<Figure size 864x432 with 1 Axes>"
      ]
     },
     "metadata": {
      "needs_background": "light"
     },
     "output_type": "display_data"
    }
   ],
   "source": [
    "\"credit to nb_C_airline_tweets_take2 notebook\"\n",
    "import matplotlib.pyplot as plt\n",
    "fig= plt.figure(figsize=(12, 6))\n",
    "ax= fig.add_axes([0, 0, 1, 1])\n",
    "ax.plot(hyp_param_vals, [metric[1] for metric in metrics], '--ro')\n",
    "ax.plot(hyp_param_vals, [metric[0] for metric in metrics], '--bo')\n",
    "ax.legend([\"Validation Loss\", \"Train Loss\"], loc= 1)\n",
    "ax.set_xticks(hyp_param_vals)\n",
    "ax.set(xlabel= 'n_estimators', ylabel=\"loss (lower is better)\")"
   ]
  },
  {
   "cell_type": "code",
   "execution_count": null,
   "metadata": {},
   "outputs": [
    {
     "data": {
      "image/png": "[encoded data removed]",
      "text/plain": [
       "<Figure size 864x432 with 1 Axes>"
      ]
     },
     "metadata": {
      "needs_background": "light"
     },
     "output_type": "display_data"
    }
   ],
   "source": [
    "\"credit to nb_C_airline_tweets_take2 notebook\"\n",
    "fig= plt.figure(figsize=(12, 6))\n",
    "ax= fig.add_axes([0,0,1,1])\n",
    "ax.plot(hyp_param_vals, [metric[3] for metric in metrics], '--ro')\n",
    "ax.plot(hyp_param_vals, [metric[2] for metric in metrics], '--bo')\n",
    "ax.legend([\"Validation Accuracy\", \"Train Accuracy (higher is better\"])\n",
    "plt.show()"
   ]
  },
  {
   "cell_type": "markdown",
   "metadata": {},
   "source": [
    "We can that 100+ seems to be the best hyperparameter if we continue to use the Random Forest Classifier method"
   ]
  }
 ],
 "metadata": {
  "kernelspec": {
   "display_name": "Python 3",
   "language": "python",
   "name": "python3"
  },
  "language_info": {
   "codemirror_mode": {
    "name": "ipython",
    "version": 3
   },
   "file_extension": ".py",
   "mimetype": "text/x-python",
   "name": "python",
   "nbconvert_exporter": "python",
   "pygments_lexer": "ipython3",
   "version": "3.9.13"
  },
  "vscode": {
   "interpreter": {
    "hash": "b34940b68f42765500b06a5bff1526c43e9cf16917429620a7b1b96d08e5bb48"
   }
  }
 },
 "nbformat": 4,
 "nbformat_minor": 2
}
