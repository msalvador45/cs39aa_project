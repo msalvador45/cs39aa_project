{
 "cells": [
  {
   "cell_type": "markdown",
   "metadata": {},
   "source": [
    "# Project Part 1\n",
    "\n",
    "[![Kaggle](https://kaggle.com/static/images/open-in-kaggle.svg)](https://kaggle.com/kernels/welcome?src=https://github.com/sgeinitz/cs39aa_project/blob/main/project_part1.ipynb)\n",
    "\n",
    "[![Open In Colab](https://colab.research.google.com/assets/colab-badge.svg)](https://colab.research.google.com/github/sgeinitz/cs39aa_project/blob/main/project_part1.ipynb)\n",
    "\n"
   ]
  },
  {
   "cell_type": "markdown",
   "metadata": {},
   "source": [
    "## Introduction/Background\n",
    "\n",
    "In this project I will attempting to train a model to predict news media bias. In order to do this I will be utilizing the dataset NLPCSS-20 from the Association for Computational Linguistics which can be found on Github. The dataset is a collection or corpus contrived of 6,964 news articles. The labels of how we describe the corpus are the following:\n",
    "- title: title of news article\n",
    "- content: content of news article\n",
    "- source: source of the content\n",
    "- allsides-bias: bias (left, center or right)\n",
    "- misc: aurhor, date, etc\n",
    "- adfontes_fair: how fair is the news article (bias, neutral or unknown)\n",
    "- adfontes_political: how political bias skewed the article is (bias, neutral or unknown)\n",
    "- event_id:event id\n",
    "\n",
    "This is a text classification problem as how we are trying to classify combination of strings that demonstrate wheter a news content is politically bias or not. The combination of strings is the content itself, it is then labeled with how bias that content is. \n"
   ]
  },
  {
   "cell_type": "markdown",
   "metadata": {},
   "source": [
    "## Exploratory Data Analysis\n",
    "\n",
    "First step is to analyze the data we have in order to figure out how our data looks like and what it is trying to tell us.\n",
    "\n",
    "The dataset comes in a Json file so there are extra steps as to converting the data into a dataframe."
   ]
  },
  {
   "cell_type": "code",
   "execution_count": 1,
   "metadata": {
    "scrolled": false
   },
   "outputs": [],
   "source": [
    "# import all of the python modules/packages you'll need here\n",
    "import pandas as pd"
   ]
  },
  {
   "cell_type": "markdown",
   "metadata": {},
   "source": [
    "As we can oberseve the json data set is not able to be formatted into a dataframe, this is becuase its format is unsupported by pandas and will have to be reformated."
   ]
  },
  {
   "cell_type": "code",
   "execution_count": 2,
   "metadata": {},
   "outputs": [
    {
     "name": "stdout",
     "output_type": "stream",
     "text": [
      "             source                                              title  \\\n",
      "0          Fox News  Trump blasts Howard Schultz, says ex-Starbucks...   \n",
      "1         USA TODAY  Trump blasts former Starbucks CEO Howard Schul...   \n",
      "2  Washington Times  Mick Mulvaney: Trump to secure border 'with or...   \n",
      "3  Washington Times  Trump says 'we'll do the emergency' if border ...   \n",
      "\n",
      "   event_id adfontes_fair adfontes_political    allsides_bias  \\\n",
      "0         0          bias               bias   From the Right   \n",
      "1         0          bias            neutral  From the Center   \n",
      "2         0          bias            neutral   From the Right   \n",
      "3         0          bias            neutral   From the Right   \n",
      "\n",
      "                                             content  \\\n",
      "0  Obama administration alum Roger Fisk and Repub...   \n",
      "1  WASHINGTON – President Donald Trump took a swi...   \n",
      "2  Acting White House chief of staff Mick Mulvane...   \n",
      "3  President Trump repeated his vow Friday to dec...   \n",
      "\n",
      "                                                misc  \n",
      "0  {'time': '2019-01-28 16:10:44.680484', 'topics...  \n",
      "1  {'time': 'None', 'topics': 'Election: Presiden...  \n",
      "2  {'time': 'None', 'topics': 'White House', 'aut...  \n",
      "3  {'time': 'None', 'topics': 'White House, Polit...  \n"
     ]
    }
   ],
   "source": [
    "# convert json file to dataframe\n",
    "# path has original data, path2 is a small excerpt from og data w/ a fix to check if it is able to reformatt into df\n",
    "path= \"NLPCSS-20-main/data/released_data.json\"\n",
    "path2= \"NLPCSS-20-main/data/example.json\"\n",
    "\n",
    "# test_df = pd.read_json(path, orient='records')\n",
    "test_df2 = pd.read_json(path2, orient='records')\n",
    "\n",
    "# print(test_df)\n",
    "print (test_df2)"
   ]
  },
  {
   "cell_type": "code",
   "execution_count": 3,
   "metadata": {},
   "outputs": [],
   "source": [
    "#path to reformatted json file\n",
    "path_data= 'NLPCSS-20-main/data/data.json'\n",
    "#reformatt json file\n",
    "with open(path, 'r') as rf:\n",
    "    with open(path_data, 'w') as wf:\n",
    "        #add [ at the beginning of the corpus\n",
    "        wf.write('[\\n')\n",
    "        #add a comma at the end of each line\n",
    "        lines= rf.read().splitlines()\n",
    "        new_line= ',\\n'.join(lines)\n",
    "        wf.write(new_line)\n",
    "        #add ] at the end of the corpus\n",
    "        wf.write('\\n]')\n",
    "        \n"
   ]
  },
  {
   "cell_type": "markdown",
   "metadata": {},
   "source": [
    "We can now convert data into a pandas dataframe and checkout initial observations"
   ]
  },
  {
   "cell_type": "code",
   "execution_count": 8,
   "metadata": {},
   "outputs": [
    {
     "data": {
      "text/html": [
       "<div>\n",
       "<style scoped>\n",
       "    .dataframe tbody tr th:only-of-type {\n",
       "        vertical-align: middle;\n",
       "    }\n",
       "\n",
       "    .dataframe tbody tr th {\n",
       "        vertical-align: top;\n",
       "    }\n",
       "\n",
       "    .dataframe thead th {\n",
       "        text-align: right;\n",
       "    }\n",
       "</style>\n",
       "<table border=\"1\" class=\"dataframe\">\n",
       "  <thead>\n",
       "    <tr style=\"text-align: right;\">\n",
       "      <th></th>\n",
       "      <th>source</th>\n",
       "      <th>title</th>\n",
       "      <th>event_id</th>\n",
       "      <th>adfontes_fair</th>\n",
       "      <th>adfontes_political</th>\n",
       "      <th>allsides_bias</th>\n",
       "      <th>content</th>\n",
       "      <th>misc</th>\n",
       "    </tr>\n",
       "  </thead>\n",
       "  <tbody>\n",
       "    <tr>\n",
       "      <th>0</th>\n",
       "      <td>Fox News</td>\n",
       "      <td>Trump blasts Howard Schultz, says ex-Starbucks...</td>\n",
       "      <td>0</td>\n",
       "      <td>bias</td>\n",
       "      <td>bias</td>\n",
       "      <td>From the Right</td>\n",
       "      <td>Obama administration alum Roger Fisk and Repub...</td>\n",
       "      <td>{'time': '2019-01-28 16:10:44.680484', 'topics...</td>\n",
       "    </tr>\n",
       "    <tr>\n",
       "      <th>1</th>\n",
       "      <td>USA TODAY</td>\n",
       "      <td>Trump blasts former Starbucks CEO Howard Schul...</td>\n",
       "      <td>0</td>\n",
       "      <td>bias</td>\n",
       "      <td>neutral</td>\n",
       "      <td>From the Center</td>\n",
       "      <td>WASHINGTON – President Donald Trump took a swi...</td>\n",
       "      <td>{'time': 'None', 'topics': 'Election: Presiden...</td>\n",
       "    </tr>\n",
       "    <tr>\n",
       "      <th>2</th>\n",
       "      <td>Washington Times</td>\n",
       "      <td>Mick Mulvaney: Trump to secure border 'with or...</td>\n",
       "      <td>0</td>\n",
       "      <td>bias</td>\n",
       "      <td>neutral</td>\n",
       "      <td>From the Right</td>\n",
       "      <td>Acting White House chief of staff Mick Mulvane...</td>\n",
       "      <td>{'time': 'None', 'topics': 'White House', 'aut...</td>\n",
       "    </tr>\n",
       "  </tbody>\n",
       "</table>\n",
       "</div>"
      ],
      "text/plain": [
       "             source                                              title  \\\n",
       "0          Fox News  Trump blasts Howard Schultz, says ex-Starbucks...   \n",
       "1         USA TODAY  Trump blasts former Starbucks CEO Howard Schul...   \n",
       "2  Washington Times  Mick Mulvaney: Trump to secure border 'with or...   \n",
       "\n",
       "   event_id adfontes_fair adfontes_political    allsides_bias  \\\n",
       "0         0          bias               bias   From the Right   \n",
       "1         0          bias            neutral  From the Center   \n",
       "2         0          bias            neutral   From the Right   \n",
       "\n",
       "                                             content  \\\n",
       "0  Obama administration alum Roger Fisk and Repub...   \n",
       "1  WASHINGTON – President Donald Trump took a swi...   \n",
       "2  Acting White House chief of staff Mick Mulvane...   \n",
       "\n",
       "                                                misc  \n",
       "0  {'time': '2019-01-28 16:10:44.680484', 'topics...  \n",
       "1  {'time': 'None', 'topics': 'Election: Presiden...  \n",
       "2  {'time': 'None', 'topics': 'White House', 'aut...  "
      ]
     },
     "execution_count": 8,
     "metadata": {},
     "output_type": "execute_result"
    }
   ],
   "source": [
    "\"\"\"Convert reformatted dataset inot dataframe\"\"\"\n",
    "df = pd.read_json(path_data, orient='records')\n",
    "\n",
    "df.head(3)"
   ]
  },
  {
   "cell_type": "markdown",
   "metadata": {},
   "source": [
    "Now lets do some basic pandas data exploration to get a sense of the data.\n",
    "There are 7775 observations with 8 columns, but it seems as we might not have to use all columns."
   ]
  },
  {
   "cell_type": "code",
   "execution_count": 14,
   "metadata": {},
   "outputs": [
    {
     "name": "stdout",
     "output_type": "stream",
     "text": [
      "<class 'pandas.core.frame.DataFrame'>\n",
      "RangeIndex: 7775 entries, 0 to 7774\n",
      "Data columns (total 8 columns):\n",
      " #   Column              Non-Null Count  Dtype \n",
      "---  ------              --------------  ----- \n",
      " 0   source              7775 non-null   object\n",
      " 1   title               7775 non-null   object\n",
      " 2   event_id            7775 non-null   int64 \n",
      " 3   adfontes_fair       7775 non-null   object\n",
      " 4   adfontes_political  7775 non-null   object\n",
      " 5   allsides_bias       7775 non-null   object\n",
      " 6   content             7775 non-null   object\n",
      " 7   misc                7775 non-null   object\n",
      "dtypes: int64(1), object(7)\n",
      "memory usage: 486.1+ KB\n",
      "None\n",
      "\n",
      "The shape of dataset as of right now is  (7775, 8)\n"
     ]
    }
   ],
   "source": [
    "print(df.info())\n",
    "print(\"\\nThe shape of dataset as of right now is \", df.shape)\n"
   ]
  },
  {
   "cell_type": "markdown",
   "metadata": {},
   "source": [
    "Observing event id as well as misc. column"
   ]
  }
 ],
 "metadata": {
  "kernelspec": {
   "display_name": "Python 3.9.13 ('nlpProj')",
   "language": "python",
   "name": "python3"
  },
  "language_info": {
   "codemirror_mode": {
    "name": "ipython",
    "version": 3
   },
   "file_extension": ".py",
   "mimetype": "text/x-python",
   "name": "python",
   "nbconvert_exporter": "python",
   "pygments_lexer": "ipython3",
   "version": "3.9.13"
  },
  "vscode": {
   "interpreter": {
    "hash": "b34940b68f42765500b06a5bff1526c43e9cf16917429620a7b1b96d08e5bb48"
   }
  }
 },
 "nbformat": 4,
 "nbformat_minor": 2
}
