{
 "cells": [
  {
   "cell_type": "markdown",
   "metadata": {},
   "source": [
    "# Project Part 1\n",
    "\n",
    "[![Kaggle](https://kaggle.com/static/images/open-in-kaggle.svg)](https://kaggle.com/kernels/welcome?src=https://github.com/sgeinitz/cs39aa_project/blob/main/project_part1.ipynb)\n",
    "\n",
    "[![Open In Colab](https://colab.research.google.com/assets/colab-badge.svg)](https://colab.research.google.com/github/sgeinitz/cs39aa_project/blob/main/project_part1.ipynb)\n",
    "\n"
   ]
  },
  {
   "cell_type": "markdown",
   "metadata": {},
   "source": [
    "## Introduction/Background\n",
    "\n",
    "In this project I will attempting to train a model to predict news media bias. In order to do this I will be utilizing the dataset NLPCSS-20 from the Association for Computational Linguistics which can be found on Github. The dataset is a collection or corpus contrived of 6,964 news articles. The labels of how we describe the corpus are the following:\n",
    "- title: title of news\n",
    "- content: content\n",
    "- source: source of the content\n",
    "- allsides-bias: bias (left, center or right)\n",
    "- misc: aurhor, date, etc\n",
    "- adfontes_fair: how fair is the news article (bias, neutral or unknown)\n",
    "- adfontes_political: how political bias skewed the article is (bias, neutral or unknown)\n",
    "- event_id:event id\n",
    "\n",
    "This is a text classification problem as how we are trying to classify combination of strings that demonstrate wheter a news content is politically bias or not. The combination of strings is the content itself, it is then labeled with how bias that content is. \n"
   ]
  },
  {
   "cell_type": "markdown",
   "metadata": {},
   "source": [
    "## Exploratory Data Analysis\n",
    "\n",
    "First step is to analyze the data we have in order to figure out how our data looks like and what it is trying to tell us.\n",
    "\n",
    "The dataset comes in a Json file so there are extra steps as to converting the data into a dataframe."
   ]
  },
  {
   "cell_type": "code",
   "execution_count": 28,
   "metadata": {
    "scrolled": false
   },
   "outputs": [],
   "source": [
    "# import all of the python modules/packages you'll need here\n",
    "import pandas as pd"
   ]
  },
  {
   "cell_type": "markdown",
   "metadata": {},
   "source": [
    "As we can oberseve the json data set is not able to be formatted into a dataframe, this is becuase its format is unsupported by pandas and will have to be reformated."
   ]
  },
  {
   "cell_type": "code",
   "execution_count": 29,
   "metadata": {},
   "outputs": [
    {
     "name": "stdout",
     "output_type": "stream",
     "text": [
      "             source                                              title  \\\n",
      "0          Fox News  Trump blasts Howard Schultz, says ex-Starbucks...   \n",
      "1         USA TODAY  Trump blasts former Starbucks CEO Howard Schul...   \n",
      "2  Washington Times  Mick Mulvaney: Trump to secure border 'with or...   \n",
      "3  Washington Times  Trump says 'we'll do the emergency' if border ...   \n",
      "\n",
      "   event_id adfontes_fair adfontes_political    allsides_bias  \\\n",
      "0         0          bias               bias   From the Right   \n",
      "1         0          bias            neutral  From the Center   \n",
      "2         0          bias            neutral   From the Right   \n",
      "3         0          bias            neutral   From the Right   \n",
      "\n",
      "                                             content  \\\n",
      "0  Obama administration alum Roger Fisk and Repub...   \n",
      "1  WASHINGTON – President Donald Trump took a swi...   \n",
      "2  Acting White House chief of staff Mick Mulvane...   \n",
      "3  President Trump repeated his vow Friday to dec...   \n",
      "\n",
      "                                                misc  \n",
      "0  {'time': '2019-01-28 16:10:44.680484', 'topics...  \n",
      "1  {'time': 'None', 'topics': 'Election: Presiden...  \n",
      "2  {'time': 'None', 'topics': 'White House', 'aut...  \n",
      "3  {'time': 'None', 'topics': 'White House, Polit...  \n"
     ]
    }
   ],
   "source": [
    "# convert json file to dataframe\n",
    "# path has original data, path2 is a small excerpt from og data w/ a fix to check if it is able to reformatt into df\n",
    "path= \"NLPCSS-20-main/data/released_data.json\"\n",
    "path2= \"NLPCSS-20-main/data/example.json\"\n",
    "\n",
    "# test_df = pd.read_json(path, orient='records')\n",
    "test_df2 = pd.read_json(path2, orient='records')\n",
    "\n",
    "# print(test_df)\n",
    "print (test_df2)"
   ]
  },
  {
   "cell_type": "code",
   "execution_count": 30,
   "metadata": {},
   "outputs": [],
   "source": [
    "#path to reformatted json file\n",
    "path_data= 'NLPCSS-20-main/data/data.json'\n",
    "#reformatt json file\n",
    "with open(path, 'r') as rf:\n",
    "    with open(path_data, 'w') as wf:\n",
    "        #add [ at the beginning of the corpus\n",
    "        wf.write('[\\n')\n",
    "        #add a comma at the end of each line\n",
    "        lines= rf.read().splitlines()\n",
    "        new_line= ',\\n'.join(lines)\n",
    "        wf.write(new_line)\n",
    "        #add ] at the end of the corpus\n",
    "        wf.write('\\n]')\n",
    "        \n"
   ]
  },
  {
   "cell_type": "code",
   "execution_count": 31,
   "metadata": {},
   "outputs": [
    {
     "name": "stdout",
     "output_type": "stream",
     "text": [
      "                source                                              title  \\\n",
      "0             Fox News  Trump blasts Howard Schultz, says ex-Starbucks...   \n",
      "1            USA TODAY  Trump blasts former Starbucks CEO Howard Schul...   \n",
      "2     Washington Times  Mick Mulvaney: Trump to secure border 'with or...   \n",
      "3     Washington Times  Trump says 'we'll do the emergency' if border ...   \n",
      "4             BBC News  Trump backs down to end painful shutdown tempo...   \n",
      "...                ...                                                ...   \n",
      "7770          Politico                   Ann Romney's task: Humanize Mitt   \n",
      "7771  Washington Times               'Mittigator' to make case for Romney   \n",
      "7772          Fox News  Convention-bound Ryan slams Obama for presidin...   \n",
      "7773          Politico                Ryan seeks comfort of Ron Paul fans   \n",
      "7774    CNN (Web News)    Paul to supporters: 2012 the start of a new era   \n",
      "\n",
      "      event_id adfontes_fair adfontes_political    allsides_bias  \\\n",
      "0            0          bias               bias   From the Right   \n",
      "1            0          bias            neutral  From the Center   \n",
      "2            0          bias            neutral   From the Right   \n",
      "3            0          bias            neutral   From the Right   \n",
      "4            0          bias            neutral  From the Center   \n",
      "...        ...           ...                ...              ...   \n",
      "7770         0          bias            neutral    From the Left   \n",
      "7771         0          bias            neutral   From the Right   \n",
      "7772         0          bias               bias   From the Right   \n",
      "7773         0          bias            neutral    From the Left   \n",
      "7774         0          bias            neutral    From the Left   \n",
      "\n",
      "                                                content  \\\n",
      "0     Obama administration alum Roger Fisk and Repub...   \n",
      "1     WASHINGTON – President Donald Trump took a swi...   \n",
      "2     Acting White House chief of staff Mick Mulvane...   \n",
      "3     President Trump repeated his vow Friday to dec...   \n",
      "4     President Donald Trump has yielded to politica...   \n",
      "...                                                 ...   \n",
      "7770  TAMPA, Fla. — Ann Romney will take to the podi...   \n",
      "7771  She is a gracious warrior with a kind face, a ...   \n",
      "7772  Republican VP pick on 'Special Report'\\nMaking...   \n",
      "7773  Paul Ryan said Monday he expects Ron Paul supp...   \n",
      "7774  Tampa, Florida (CNN) \\- As Rep. Ron Paul's thi...   \n",
      "\n",
      "                                                   misc  \n",
      "0     {'time': '2019-01-28 16:10:44.680484', 'topics...  \n",
      "1     {'time': 'None', 'topics': 'Election: Presiden...  \n",
      "2     {'time': 'None', 'topics': 'White House', 'aut...  \n",
      "3     {'time': 'None', 'topics': 'White House, Polit...  \n",
      "4     {'time': '2019-01-26 00:00:00', 'topics': 'Whi...  \n",
      "...                                                 ...  \n",
      "7770  {'time': '2012-08-28 04:59:14', 'topics': 'Ele...  \n",
      "7771  {'time': 'None', 'topics': 'Election: Presiden...  \n",
      "7772  {'time': '2012-08-27 00:00:00', 'topics': 'Ele...  \n",
      "7773  {'time': '2012-08-27 15:52:45', 'topics': 'Ele...  \n",
      "7774  {'time': '2012-08-26 00:00:00', 'topics': 'Ele...  \n",
      "\n",
      "[7775 rows x 8 columns]\n"
     ]
    }
   ],
   "source": [
    "\"\"\"Convert reformatted dataset inot dataframe\"\"\"\n",
    "df = pd.read_json(path_data, orient='records')\n",
    "print(df)"
   ]
  }
 ],
 "metadata": {
  "kernelspec": {
   "display_name": "Python 3.9.13 ('nlpProj')",
   "language": "python",
   "name": "python3"
  },
  "language_info": {
   "codemirror_mode": {
    "name": "ipython",
    "version": 3
   },
   "file_extension": ".py",
   "mimetype": "text/x-python",
   "name": "python",
   "nbconvert_exporter": "python",
   "pygments_lexer": "ipython3",
   "version": "3.9.13"
  },
  "vscode": {
   "interpreter": {
    "hash": "b34940b68f42765500b06a5bff1526c43e9cf16917429620a7b1b96d08e5bb48"
   }
  }
 },
 "nbformat": 4,
 "nbformat_minor": 2
}
