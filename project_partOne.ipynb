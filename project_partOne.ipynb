{
 "cells": [
  {
   "cell_type": "markdown",
   "metadata": {},
   "source": []
  },
  {
   "cell_type": "markdown",
   "metadata": {},
   "source": [
    "# Project Pt. I"
   ]
  },
  {
   "cell_type": "markdown",
   "metadata": {},
   "source": [
    "## Analyze & modify the dataset to suit our training needs"
   ]
  },
  {
   "cell_type": "code",
   "execution_count": 1,
   "metadata": {},
   "outputs": [],
   "source": [
    "import pandas as pd"
   ]
  },
  {
   "cell_type": "code",
   "execution_count": 2,
   "metadata": {},
   "outputs": [
    {
     "data": {
      "text/html": [
       "<div>\n",
       "<style scoped>\n",
       "    .dataframe tbody tr th:only-of-type {\n",
       "        vertical-align: middle;\n",
       "    }\n",
       "\n",
       "    .dataframe tbody tr th {\n",
       "        vertical-align: top;\n",
       "    }\n",
       "\n",
       "    .dataframe thead th {\n",
       "        text-align: right;\n",
       "    }\n",
       "</style>\n",
       "<table border=\"1\" class=\"dataframe\">\n",
       "  <thead>\n",
       "    <tr style=\"text-align: right;\">\n",
       "      <th></th>\n",
       "      <th>source</th>\n",
       "      <th>title</th>\n",
       "      <th>event_id</th>\n",
       "      <th>adfontes_fair</th>\n",
       "      <th>adfontes_political</th>\n",
       "      <th>allsides_bias</th>\n",
       "      <th>content</th>\n",
       "      <th>misc</th>\n",
       "    </tr>\n",
       "  </thead>\n",
       "  <tbody>\n",
       "    <tr>\n",
       "      <th>0</th>\n",
       "      <td>Fox News</td>\n",
       "      <td>Trump blasts Howard Schultz, says ex-Starbucks...</td>\n",
       "      <td>0</td>\n",
       "      <td>bias</td>\n",
       "      <td>bias</td>\n",
       "      <td>From the Right</td>\n",
       "      <td>Obama administration alum Roger Fisk and Repub...</td>\n",
       "      <td>{'time': '2019-01-28 16:10:44.680484', 'topics...</td>\n",
       "    </tr>\n",
       "    <tr>\n",
       "      <th>1</th>\n",
       "      <td>USA TODAY</td>\n",
       "      <td>Trump blasts former Starbucks CEO Howard Schul...</td>\n",
       "      <td>0</td>\n",
       "      <td>bias</td>\n",
       "      <td>neutral</td>\n",
       "      <td>From the Center</td>\n",
       "      <td>WASHINGTON – President Donald Trump took a swi...</td>\n",
       "      <td>{'time': 'None', 'topics': 'Election: Presiden...</td>\n",
       "    </tr>\n",
       "    <tr>\n",
       "      <th>2</th>\n",
       "      <td>Washington Times</td>\n",
       "      <td>Mick Mulvaney: Trump to secure border 'with or...</td>\n",
       "      <td>0</td>\n",
       "      <td>bias</td>\n",
       "      <td>neutral</td>\n",
       "      <td>From the Right</td>\n",
       "      <td>Acting White House chief of staff Mick Mulvane...</td>\n",
       "      <td>{'time': 'None', 'topics': 'White House', 'aut...</td>\n",
       "    </tr>\n",
       "    <tr>\n",
       "      <th>3</th>\n",
       "      <td>Washington Times</td>\n",
       "      <td>Trump says 'we'll do the emergency' if border ...</td>\n",
       "      <td>0</td>\n",
       "      <td>bias</td>\n",
       "      <td>neutral</td>\n",
       "      <td>From the Right</td>\n",
       "      <td>President Trump repeated his vow Friday to dec...</td>\n",
       "      <td>{'time': 'None', 'topics': 'White House, Polit...</td>\n",
       "    </tr>\n",
       "    <tr>\n",
       "      <th>4</th>\n",
       "      <td>BBC News</td>\n",
       "      <td>Trump backs down to end painful shutdown tempo...</td>\n",
       "      <td>0</td>\n",
       "      <td>bias</td>\n",
       "      <td>neutral</td>\n",
       "      <td>From the Center</td>\n",
       "      <td>President Donald Trump has yielded to politica...</td>\n",
       "      <td>{'time': '2019-01-26 00:00:00', 'topics': 'Whi...</td>\n",
       "    </tr>\n",
       "  </tbody>\n",
       "</table>\n",
       "</div>"
      ],
      "text/plain": [
       "             source                                              title  \\\n",
       "0          Fox News  Trump blasts Howard Schultz, says ex-Starbucks...   \n",
       "1         USA TODAY  Trump blasts former Starbucks CEO Howard Schul...   \n",
       "2  Washington Times  Mick Mulvaney: Trump to secure border 'with or...   \n",
       "3  Washington Times  Trump says 'we'll do the emergency' if border ...   \n",
       "4          BBC News  Trump backs down to end painful shutdown tempo...   \n",
       "\n",
       "   event_id adfontes_fair adfontes_political    allsides_bias  \\\n",
       "0         0          bias               bias   From the Right   \n",
       "1         0          bias            neutral  From the Center   \n",
       "2         0          bias            neutral   From the Right   \n",
       "3         0          bias            neutral   From the Right   \n",
       "4         0          bias            neutral  From the Center   \n",
       "\n",
       "                                             content  \\\n",
       "0  Obama administration alum Roger Fisk and Repub...   \n",
       "1  WASHINGTON – President Donald Trump took a swi...   \n",
       "2  Acting White House chief of staff Mick Mulvane...   \n",
       "3  President Trump repeated his vow Friday to dec...   \n",
       "4  President Donald Trump has yielded to politica...   \n",
       "\n",
       "                                                misc  \n",
       "0  {'time': '2019-01-28 16:10:44.680484', 'topics...  \n",
       "1  {'time': 'None', 'topics': 'Election: Presiden...  \n",
       "2  {'time': 'None', 'topics': 'White House', 'aut...  \n",
       "3  {'time': 'None', 'topics': 'White House, Polit...  \n",
       "4  {'time': '2019-01-26 00:00:00', 'topics': 'Whi...  "
      ]
     },
     "execution_count": 2,
     "metadata": {},
     "output_type": "execute_result"
    }
   ],
   "source": [
    "\"\"\" Convert data into a dataframe\"\"\"\n",
    "df= pd.read_json(\"NLPCSS-20-main/data/data.json\")\n",
    "df.head()"
   ]
  },
  {
   "cell_type": "markdown",
   "metadata": {},
   "source": [
    "Explore dataframe with pandas, as well as modify the dataset"
   ]
  },
  {
   "cell_type": "code",
   "execution_count": 3,
   "metadata": {},
   "outputs": [
    {
     "name": "stdout",
     "output_type": "stream",
     "text": [
      "<class 'pandas.core.frame.DataFrame'>\n",
      "RangeIndex: 7775 entries, 0 to 7774\n",
      "Data columns (total 8 columns):\n",
      " #   Column              Non-Null Count  Dtype \n",
      "---  ------              --------------  ----- \n",
      " 0   source              7775 non-null   object\n",
      " 1   title               7775 non-null   object\n",
      " 2   event_id            7775 non-null   int64 \n",
      " 3   adfontes_fair       7775 non-null   object\n",
      " 4   adfontes_political  7775 non-null   object\n",
      " 5   allsides_bias       7775 non-null   object\n",
      " 6   content             7775 non-null   object\n",
      " 7   misc                7775 non-null   object\n",
      "dtypes: int64(1), object(7)\n",
      "memory usage: 486.1+ KB\n",
      "None\n"
     ]
    }
   ],
   "source": [
    "# pd info\n",
    "print(df.info())\n"
   ]
  },
  {
   "cell_type": "markdown",
   "metadata": {},
   "source": [
    "We will train our data with only content and allsides-bias, so we can drop the other columns in the dataset. We will also want to get rid of null entries."
   ]
  },
  {
   "cell_type": "code",
   "execution_count": 4,
   "metadata": {},
   "outputs": [
    {
     "data": {
      "text/html": [
       "<div>\n",
       "<style scoped>\n",
       "    .dataframe tbody tr th:only-of-type {\n",
       "        vertical-align: middle;\n",
       "    }\n",
       "\n",
       "    .dataframe tbody tr th {\n",
       "        vertical-align: top;\n",
       "    }\n",
       "\n",
       "    .dataframe thead th {\n",
       "        text-align: right;\n",
       "    }\n",
       "</style>\n",
       "<table border=\"1\" class=\"dataframe\">\n",
       "  <thead>\n",
       "    <tr style=\"text-align: right;\">\n",
       "      <th></th>\n",
       "      <th>allsides_bias</th>\n",
       "      <th>content</th>\n",
       "    </tr>\n",
       "  </thead>\n",
       "  <tbody>\n",
       "    <tr>\n",
       "      <th>0</th>\n",
       "      <td>From the Right</td>\n",
       "      <td>Obama administration alum Roger Fisk and Repub...</td>\n",
       "    </tr>\n",
       "    <tr>\n",
       "      <th>1</th>\n",
       "      <td>From the Center</td>\n",
       "      <td>WASHINGTON – President Donald Trump took a swi...</td>\n",
       "    </tr>\n",
       "    <tr>\n",
       "      <th>2</th>\n",
       "      <td>From the Right</td>\n",
       "      <td>Acting White House chief of staff Mick Mulvane...</td>\n",
       "    </tr>\n",
       "    <tr>\n",
       "      <th>3</th>\n",
       "      <td>From the Right</td>\n",
       "      <td>President Trump repeated his vow Friday to dec...</td>\n",
       "    </tr>\n",
       "    <tr>\n",
       "      <th>4</th>\n",
       "      <td>From the Center</td>\n",
       "      <td>President Donald Trump has yielded to politica...</td>\n",
       "    </tr>\n",
       "  </tbody>\n",
       "</table>\n",
       "</div>"
      ],
      "text/plain": [
       "     allsides_bias                                            content\n",
       "0   From the Right  Obama administration alum Roger Fisk and Repub...\n",
       "1  From the Center  WASHINGTON – President Donald Trump took a swi...\n",
       "2   From the Right  Acting White House chief of staff Mick Mulvane...\n",
       "3   From the Right  President Trump repeated his vow Friday to dec...\n",
       "4  From the Center  President Donald Trump has yielded to politica..."
      ]
     },
     "execution_count": 4,
     "metadata": {},
     "output_type": "execute_result"
    }
   ],
   "source": [
    "#drop all columns except content and allsides bias\n",
    "df.drop(columns=['source','title','event_id','misc','adfontes_fair','adfontes_political'], inplace=True)\n",
    "df.head()"
   ]
  },
  {
   "cell_type": "code",
   "execution_count": 5,
   "metadata": {},
   "outputs": [],
   "source": [
    "\"\"\"Check to see if there are null entries\"\"\"\n",
    "null_entries= df.isnull().sum()\n",
    "null_entries\n",
    "#no null entries, del null vars\n",
    "del(null_entries)"
   ]
  },
  {
   "cell_type": "code",
   "execution_count": 6,
   "metadata": {},
   "outputs": [
    {
     "name": "stdout",
     "output_type": "stream",
     "text": [
      "<class 'pandas.core.frame.DataFrame'>\n",
      "RangeIndex: 7775 entries, 0 to 7774\n",
      "Data columns (total 2 columns):\n",
      " #   Column         Non-Null Count  Dtype \n",
      "---  ------         --------------  ----- \n",
      " 0   allsides_bias  7775 non-null   object\n",
      " 1   content        7775 non-null   object\n",
      "dtypes: object(2)\n",
      "memory usage: 121.6+ KB\n",
      "None\n"
     ]
    }
   ],
   "source": [
    "#look at reformatted dataframe\n",
    "print(df.info())"
   ]
  },
  {
   "cell_type": "markdown",
   "metadata": {},
   "source": [
    "With pandas analyse the new reformatted dataframe"
   ]
  },
  {
   "cell_type": "code",
   "execution_count": 7,
   "metadata": {},
   "outputs": [
    {
     "name": "stdout",
     "output_type": "stream",
     "text": [
      "The shape of the dataframe is:  (7775, 2) \n",
      "\n",
      "The unique values for allsides bias is: \n",
      " ['From the Right' 'From the Center' 'From the Left'] \n",
      "\n",
      "The value counts of the unique values is:\n"
     ]
    },
    {
     "data": {
      "text/plain": [
       "From the Left      0.473826\n",
       "From the Right     0.366688\n",
       "From the Center    0.159486\n",
       "Name: allsides_bias, dtype: float64"
      ]
     },
     "execution_count": 7,
     "metadata": {},
     "output_type": "execute_result"
    }
   ],
   "source": [
    "print(\"The shape of the dataframe is: \", df.shape, \"\\n\")\n",
    "print(\"The unique values for allsides bias is: \\n\", df.allsides_bias.unique(),\"\\n\")\n",
    "print(\"The value counts of the unique values is:\")\n",
    "df.allsides_bias.value_counts(normalize=True)"
   ]
  },
  {
   "cell_type": "markdown",
   "metadata": {},
   "source": [
    "## Tokenize dataframe and Create splits"
   ]
  },
  {
   "cell_type": "markdown",
   "metadata": {},
   "source": [
    "Create tokens from the dataset"
   ]
  },
  {
   "cell_type": "code",
   "execution_count": 8,
   "metadata": {},
   "outputs": [
    {
     "name": "stderr",
     "output_type": "stream",
     "text": [
      "[nltk_data] Downloading package punkt to\n",
      "[nltk_data]     /home/msalvador45/nltk_data...\n",
      "[nltk_data]   Package punkt is already up-to-date!\n"
     ]
    },
    {
     "data": {
      "text/plain": [
       "True"
      ]
     },
     "execution_count": 8,
     "metadata": {},
     "output_type": "execute_result"
    }
   ],
   "source": [
    "# import libraries to tokenize df\n",
    "import nltk\n",
    "import re\n",
    "from nltk.tokenize import word_tokenize\n",
    "from nltk.corpus import stopwords\n",
    "nltk.download('punkt')"
   ]
  },
  {
   "cell_type": "code",
   "execution_count": 9,
   "metadata": {},
   "outputs": [
    {
     "data": {
      "text/html": [
       "<div>\n",
       "<style scoped>\n",
       "    .dataframe tbody tr th:only-of-type {\n",
       "        vertical-align: middle;\n",
       "    }\n",
       "\n",
       "    .dataframe tbody tr th {\n",
       "        vertical-align: top;\n",
       "    }\n",
       "\n",
       "    .dataframe thead th {\n",
       "        text-align: right;\n",
       "    }\n",
       "</style>\n",
       "<table border=\"1\" class=\"dataframe\">\n",
       "  <thead>\n",
       "    <tr style=\"text-align: right;\">\n",
       "      <th></th>\n",
       "      <th>allsides_bias</th>\n",
       "      <th>content</th>\n",
       "      <th>tokens_raw</th>\n",
       "    </tr>\n",
       "  </thead>\n",
       "  <tbody>\n",
       "    <tr>\n",
       "      <th>0</th>\n",
       "      <td>From the Right</td>\n",
       "      <td>Obama administration alum Roger Fisk and Repub...</td>\n",
       "      <td>[Obama, administration, alum, Roger, Fisk, and...</td>\n",
       "    </tr>\n",
       "    <tr>\n",
       "      <th>1</th>\n",
       "      <td>From the Center</td>\n",
       "      <td>WASHINGTON – President Donald Trump took a swi...</td>\n",
       "      <td>[WASHINGTON, –, President, Donald, Trump, took...</td>\n",
       "    </tr>\n",
       "    <tr>\n",
       "      <th>2</th>\n",
       "      <td>From the Right</td>\n",
       "      <td>Acting White House chief of staff Mick Mulvane...</td>\n",
       "      <td>[Acting, White, House, chief, of, staff, Mick,...</td>\n",
       "    </tr>\n",
       "    <tr>\n",
       "      <th>3</th>\n",
       "      <td>From the Right</td>\n",
       "      <td>President Trump repeated his vow Friday to dec...</td>\n",
       "      <td>[President, Trump, repeated, his, vow, Friday,...</td>\n",
       "    </tr>\n",
       "    <tr>\n",
       "      <th>4</th>\n",
       "      <td>From the Center</td>\n",
       "      <td>President Donald Trump has yielded to politica...</td>\n",
       "      <td>[President, Donald, Trump, has, yielded, to, p...</td>\n",
       "    </tr>\n",
       "  </tbody>\n",
       "</table>\n",
       "</div>"
      ],
      "text/plain": [
       "     allsides_bias                                            content  \\\n",
       "0   From the Right  Obama administration alum Roger Fisk and Repub...   \n",
       "1  From the Center  WASHINGTON – President Donald Trump took a swi...   \n",
       "2   From the Right  Acting White House chief of staff Mick Mulvane...   \n",
       "3   From the Right  President Trump repeated his vow Friday to dec...   \n",
       "4  From the Center  President Donald Trump has yielded to politica...   \n",
       "\n",
       "                                          tokens_raw  \n",
       "0  [Obama, administration, alum, Roger, Fisk, and...  \n",
       "1  [WASHINGTON, –, President, Donald, Trump, took...  \n",
       "2  [Acting, White, House, chief, of, staff, Mick,...  \n",
       "3  [President, Trump, repeated, his, vow, Friday,...  \n",
       "4  [President, Donald, Trump, has, yielded, to, p...  "
      ]
     },
     "execution_count": 9,
     "metadata": {},
     "output_type": "execute_result"
    }
   ],
   "source": [
    "# Tokenize dataframe\n",
    "df['tokens_raw']= df['content'].apply(word_tokenize)\n",
    "df.head()"
   ]
  },
  {
   "cell_type": "markdown",
   "metadata": {},
   "source": [
    "Get rid of stopwords"
   ]
  },
  {
   "cell_type": "code",
   "execution_count": 10,
   "metadata": {},
   "outputs": [
    {
     "data": {
      "text/html": [
       "<div>\n",
       "<style scoped>\n",
       "    .dataframe tbody tr th:only-of-type {\n",
       "        vertical-align: middle;\n",
       "    }\n",
       "\n",
       "    .dataframe tbody tr th {\n",
       "        vertical-align: top;\n",
       "    }\n",
       "\n",
       "    .dataframe thead th {\n",
       "        text-align: right;\n",
       "    }\n",
       "</style>\n",
       "<table border=\"1\" class=\"dataframe\">\n",
       "  <thead>\n",
       "    <tr style=\"text-align: right;\">\n",
       "      <th></th>\n",
       "      <th>allsides_bias</th>\n",
       "      <th>content</th>\n",
       "      <th>tokens_raw</th>\n",
       "    </tr>\n",
       "  </thead>\n",
       "  <tbody>\n",
       "    <tr>\n",
       "      <th>0</th>\n",
       "      <td>From the Right</td>\n",
       "      <td>Obama administration alum Roger Fisk and Repub...</td>\n",
       "      <td>[Obama, administration, alum, Roger, Fisk, Rep...</td>\n",
       "    </tr>\n",
       "    <tr>\n",
       "      <th>1</th>\n",
       "      <td>From the Center</td>\n",
       "      <td>WASHINGTON – President Donald Trump took a swi...</td>\n",
       "      <td>[WASHINGTON, –, President, Donald, Trump, took...</td>\n",
       "    </tr>\n",
       "    <tr>\n",
       "      <th>2</th>\n",
       "      <td>From the Right</td>\n",
       "      <td>Acting White House chief of staff Mick Mulvane...</td>\n",
       "      <td>[Acting, White, House, chief, staff, Mick, Mul...</td>\n",
       "    </tr>\n",
       "    <tr>\n",
       "      <th>3</th>\n",
       "      <td>From the Right</td>\n",
       "      <td>President Trump repeated his vow Friday to dec...</td>\n",
       "      <td>[President, Trump, repeated, vow, Friday, decl...</td>\n",
       "    </tr>\n",
       "    <tr>\n",
       "      <th>4</th>\n",
       "      <td>From the Center</td>\n",
       "      <td>President Donald Trump has yielded to politica...</td>\n",
       "      <td>[President, Donald, Trump, yielded, political,...</td>\n",
       "    </tr>\n",
       "  </tbody>\n",
       "</table>\n",
       "</div>"
      ],
      "text/plain": [
       "     allsides_bias                                            content  \\\n",
       "0   From the Right  Obama administration alum Roger Fisk and Repub...   \n",
       "1  From the Center  WASHINGTON – President Donald Trump took a swi...   \n",
       "2   From the Right  Acting White House chief of staff Mick Mulvane...   \n",
       "3   From the Right  President Trump repeated his vow Friday to dec...   \n",
       "4  From the Center  President Donald Trump has yielded to politica...   \n",
       "\n",
       "                                          tokens_raw  \n",
       "0  [Obama, administration, alum, Roger, Fisk, Rep...  \n",
       "1  [WASHINGTON, –, President, Donald, Trump, took...  \n",
       "2  [Acting, White, House, chief, staff, Mick, Mul...  \n",
       "3  [President, Trump, repeated, vow, Friday, decl...  \n",
       "4  [President, Donald, Trump, yielded, political,...  "
      ]
     },
     "execution_count": 10,
     "metadata": {},
     "output_type": "execute_result"
    }
   ],
   "source": [
    "stops= set(stopwords.words('english'))\n",
    "chars2remove= set(['.','!','/','?'])\n",
    "df['tokens_raw']= df['tokens_raw'].apply(lambda x: [w for w in x if w not in stops])\n",
    "df['tokens_raw']= df['tokens_raw'].apply(lambda x: [w for w in x if w not in chars2remove])\n",
    "df['tokens_raw']= df['tokens_raw'].apply(lambda x: [w for w in x if not re.match('^#',w)])\n",
    "df['tokens_raw']= df['tokens_raw'].apply(lambda x: [w for w in x if not re.match('^http',w)])\n",
    "df['tokens_raw']= df['tokens_raw'].apply(lambda x: [w for w in x if not re.match('@',w)])\n",
    "df.head()"
   ]
  },
  {
   "cell_type": "markdown",
   "metadata": {},
   "source": [
    "We will now go forward and lemmatize the tokens"
   ]
  },
  {
   "cell_type": "code",
   "execution_count": 20,
   "metadata": {},
   "outputs": [],
   "source": [
    "\"\"\"We will use Spacy to lemmatize as  they use a more complicated model\"\"\"\n",
    "#import libraries we will need to use\n",
    "import spacy\n",
    "lemmatizer= spacy.load(\"en_core_web_sm\", disable=['parser', 'ner'])"
   ]
  },
  {
   "cell_type": "code",
   "execution_count": 22,
   "metadata": {},
   "outputs": [
    {
     "data": {
      "text/plain": [
       "'we throw a party , we throw a party , bitch come over yeah we throw a party'"
      ]
     },
     "execution_count": 22,
     "metadata": {},
     "output_type": "execute_result"
    }
   ],
   "source": [
    "#Create lemmatizer instance\n",
    "doc= nlp(\"we threw a party, we threw a party, bitches came over yeah we threw a party\")\n",
    "\" \".join([token.lemma_ for token in doc])"
   ]
  }
 ],
 "metadata": {
  "kernelspec": {
   "display_name": "Python 3.9.13 ('nlpProj')",
   "language": "python",
   "name": "python3"
  },
  "language_info": {
   "codemirror_mode": {
    "name": "ipython",
    "version": 3
   },
   "file_extension": ".py",
   "mimetype": "text/x-python",
   "name": "python",
   "nbconvert_exporter": "python",
   "pygments_lexer": "ipython3",
   "version": "3.9.13"
  },
  "orig_nbformat": 4,
  "vscode": {
   "interpreter": {
    "hash": "b34940b68f42765500b06a5bff1526c43e9cf16917429620a7b1b96d08e5bb48"
   }
  }
 },
 "nbformat": 4,
 "nbformat_minor": 2
}
